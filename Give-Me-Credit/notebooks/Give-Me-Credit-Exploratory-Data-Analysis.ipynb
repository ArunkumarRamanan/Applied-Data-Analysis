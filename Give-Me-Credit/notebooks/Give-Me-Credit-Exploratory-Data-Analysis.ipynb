{
 "cells": [
  {
   "cell_type": "code",
   "execution_count": 246,
   "metadata": {
    "collapsed": false
   },
   "outputs": [],
   "source": [
    "# import libraries\n",
    "\n",
    "import pandas as pd\n",
    "import numpy as np\n",
    "import matplotlib.pyplot as plt\n",
    "import seaborn as sns\n",
    "\n",
    "from xgboost import XGBClassifier\n",
    "\n",
    "from sklearn.cross_validation import train_test_split, StratifiedKFold\n",
    "from sklearn.grid_search import GridSearchCV\n",
    "from sklearn.metrics import roc_auc_score\n",
    "from sklearn.linear_model import LogisticRegression\n",
    "from sklearn.preprocessing import StandardScaler\n",
    "\n",
    "import warnings\n",
    "warnings.filterwarnings('ignore')\n",
    "\n",
    "# random seed\n",
    "np.random.seed(4231)\n",
    "\n",
    "%matplotlib inline"
   ]
  },
  {
   "cell_type": "markdown",
   "metadata": {},
   "source": [
    "## Data Description\n",
    "\n",
    "<table>\n",
    "<thead>\n",
    "    <tr>\n",
    "        <td>\n",
    "            Variable Name\n",
    "        </td>\n",
    "        <td>\n",
    "            Description\n",
    "        </td>\n",
    "        <td>\n",
    "            Type\n",
    "        </td>\n",
    "    </tr>\n",
    "</thead>\n",
    "<tbody>\n",
    "    <tr>\n",
    "        <td>\n",
    "            SeriousDlqin2yrs\n",
    "        </td>\n",
    "        <td>\n",
    "            Person experienced 90 days past due delinquency or worse \n",
    "        </td>\n",
    "        <td>\n",
    "            Y/N\n",
    "        </td>\n",
    "    </tr>\n",
    "    <tr>\n",
    "        <td>\n",
    "            RevolvingUtilizationOfUnsecuredLines\n",
    "        </td>\n",
    "        <td>\n",
    "            Total balance on credit cards and personal lines of credit except real estate and no installment debt like car loans divided by the sum of credit limits \n",
    "        </td>\n",
    "        <td>\n",
    "            percentage\n",
    "        </td>\n",
    "    </tr>\n",
    "    <tr>\n",
    "        <td>\n",
    "            age\n",
    "        </td>\n",
    "        <td>\n",
    "            Age of borrower in years \n",
    "        </td>\n",
    "        <td>\n",
    "            int\n",
    "        </td>\n",
    "    </tr>\n",
    "    <tr>\n",
    "        <td>\n",
    "            NumberOfTime30-59DaysPastDueNotWorse\n",
    "        </td>\n",
    "        <td>\n",
    "            Number of times borrower has been 30-59 days past due but no worse in the last 2 years. \n",
    "        </td>\n",
    "        <td>\n",
    "            int\n",
    "        </td>\n",
    "    </tr>\n",
    "    <tr>\n",
    "        <td>\n",
    "            DebtRatio\n",
    "        </td>\n",
    "        <td>\n",
    "            Monthly debt payments, alimony,living costs divided by monthy gross income \n",
    "        </td>\n",
    "        <td>\n",
    "            percentage\n",
    "        </td>\n",
    "    </tr>\n",
    "    <tr>\n",
    "        <td>\n",
    "            MonthlyIncome\n",
    "        </td>\n",
    "        <td>\n",
    "            Monthly income \n",
    "        </td>\n",
    "        <td>\n",
    "            int\n",
    "        </td>\n",
    "    </tr>\n",
    "    <tr>\n",
    "        <td>\n",
    "            NumberOfOpenCreditLinesAndLoans\n",
    "        </td>\n",
    "        <td>\n",
    "            Number of Open loans (installment like car loan or mortgage) and Lines of credit (e.g. credit cards) \n",
    "        </td>\n",
    "        <td>\n",
    "            int\n",
    "        </td>\n",
    "    </tr>\n",
    "    <tr>\n",
    "        <td>\n",
    "            NumberOfTimes90DaysLate\n",
    "        </td>\n",
    "        <td>\n",
    "            Number of times borrower has been 90 days or more past due.\n",
    "        </td>\n",
    "        <td>\n",
    "            int\n",
    "        </td>\n",
    "    </tr>\n",
    "    <tr>\n",
    "        <td>\n",
    "            NumberRealEstateLoansOrLines\n",
    "        </td>\n",
    "        <td>\n",
    "             Number of mortgage and real estate loans including home equity lines of credit\n",
    "        </td>\n",
    "        <td>\n",
    "            int\n",
    "        </td>\n",
    "    </tr>\n",
    "    <tr>\n",
    "        <td>\n",
    "            NumberOfTime60-89DaysPastDueNotWorse\n",
    "        </td>\n",
    "        <td>\n",
    "            Number of times borrower has been 60-89 days past due but no worse in the last 2 years.\n",
    "        </td>\n",
    "        <td>\n",
    "            int\n",
    "        </td>\n",
    "    </tr>\n",
    "    <tr>\n",
    "        <td>\n",
    "            NumberOfDependents\n",
    "        </td>\n",
    "        <td>\n",
    "            Number of dependents in family excluding themselves (spouse, children etc.)\n",
    "        </td>\n",
    "        <td>\n",
    "            int\n",
    "        </td>\n",
    "    </tr>\n",
    "</tbody>\n",
    "</table>"
   ]
  },
  {
   "cell_type": "markdown",
   "metadata": {},
   "source": [
    "## Helper Functions"
   ]
  },
  {
   "cell_type": "markdown",
   "metadata": {},
   "source": [
    "* Need a function that would shuffle a data frame.\n",
    "* Need a function that would perform a given transformation on a given feature for a dataframe.\n",
    "* Function that return suitable features for One Hot Encoding.\n",
    "* Function that would find cardinality of a given feature.\n",
    "* Function that would convert predictions ( probability of YES ) to rank.\n",
    "* Function to save a submission"
   ]
  },
  {
   "cell_type": "markdown",
   "metadata": {},
   "source": [
    "### Future Goals\n",
    "\n",
    "- Perform log transformations on features that would are skewed. **[ done ]**\n",
    "- Encode some of the variables as One Hot Encoded Features to see if they capture anything different.\n",
    "- Tune the base XGBoost model to see if we can take leverage from it or not. **[ done ]**\n",
    "- Train different models and combine their results."
   ]
  },
  {
   "cell_type": "code",
   "execution_count": 175,
   "metadata": {
    "collapsed": true
   },
   "outputs": [],
   "source": [
    "def get_ranks(y_preds):\n",
    "    \"\"\"\n",
    "    Returns normalized ranks\n",
    "    \"\"\"\n",
    "    if y_preds is None:\n",
    "        raise ValueError('Predictions are required')\n",
    "    \n",
    "    if type(y_preds) is not np.ndarray:\n",
    "        y_preds = np.array(y_preds)\n",
    "    \n",
    "    ranks = [0] * len(y_preds)\n",
    "    \n",
    "    for i, x in enumerate(sorted(range(len(y_preds)), key=lambda y: y_preds[y])):\n",
    "        ranks[x] = i + 1 # here i represent the rank and x represent the sorted value\n",
    "    \n",
    "    ranks = np.array(ranks)\n",
    "    max_rank = ranks.max() * 1.\n",
    "    \n",
    "    return ranks / max_rank\n",
    "\n",
    "def shuffle_df(df):\n",
    "    \"\"\"\n",
    "    Shuffle a data frame\n",
    "    \n",
    "    Args:\n",
    "        df: DataFrame\n",
    "    \n",
    "    Return:\n",
    "        Shuffled Dataframe\n",
    "    \"\"\"\n",
    "    df = df.iloc[np.random.permutation(len(df))]\n",
    "    return df\n",
    "\n",
    "def transform_feature(df, feature_name, transform_func):\n",
    "    \"\"\"\n",
    "    Perform a given transformation on a given feature\n",
    "    \n",
    "    Args:\n",
    "        df: Dataframe\n",
    "        feature_name: Name of the column/feature\n",
    "        transform_func: Transformation Function\n",
    "        \n",
    "    Return:\n",
    "        Transformed Feature\n",
    "    \"\"\"\n",
    "    \n",
    "    df[feature_name] = df[feature_name].map(transform_func)\n",
    "    return df[feature_name]\n",
    "\n",
    "def get_cardinality(df, feature_name):\n",
    "    \"\"\"\n",
    "    Gets cardinality of a feature\n",
    "    \n",
    "    Args:\n",
    "        df: Dataframe\n",
    "        feature_name: Name of the column\n",
    "    \n",
    "    Return:\n",
    "        Cardinality of the feature\n",
    "    \"\"\"\n",
    "    \n",
    "    return len(df[feature_name].value_counts().index)\n",
    "\n",
    "def features_for_ohe(df, cardinality_threshold=4):\n",
    "    \"\"\"\n",
    "    Returns features that are suitable for one hot encoding based on the cardinality\n",
    "        \n",
    "    Args:\n",
    "        df: Dataframe\n",
    "        cardinality_threshold: int\n",
    "        \n",
    "    Return:\n",
    "        List of features that are suitable for one hot encoding\n",
    "    \"\"\"\n",
    "    \n",
    "    columns = df.columns\n",
    "    suitable_features = [col for col in columns if get_cardinality(df, col) > cardinality_threshold]\n",
    "    \n",
    "    return suitable_features\n",
    "\n",
    "def get_ohe(df, cols):\n",
    "    \"\"\"\n",
    "    Returns one hot encoding representation of the data\n",
    "    \n",
    "    Args:\n",
    "        df: Dataframe\n",
    "        cols: List of the cols that need that needs to be encoded\n",
    "    \n",
    "    Return:\n",
    "        One Hot Encoded representation of the dataframe\n",
    "    \"\"\"\n",
    "        \n",
    "    return pd.get_dummies(df, columns=cols, sparse=True)\n",
    "\n",
    "def save_submission(submission_df, ranks, filename):\n",
    "    \"\"\"\n",
    "    Save a submission csv file in ../submissions folder\n",
    "    \n",
    "    Args:\n",
    "        submission_df: Sample submission dataframe\n",
    "        ranks: Ranks/Probability of Yes originated from our model\n",
    "        filename: Filename of the csv    \n",
    "    \"\"\"\n",
    "    \n",
    "    submission_df['Probability'] = ranks\n",
    "    submission_df.to_csv('../submissions/%s'%(filename), index=False)"
   ]
  },
  {
   "cell_type": "code",
   "execution_count": 12,
   "metadata": {
    "collapsed": false
   },
   "outputs": [
    {
     "data": {
      "text/plain": [
       "13"
      ]
     },
     "execution_count": 12,
     "metadata": {},
     "output_type": "execute_result"
    }
   ],
   "source": [
    "len(train.NumberOfDependents.value_counts().index)"
   ]
  },
  {
   "cell_type": "code",
   "execution_count": 191,
   "metadata": {
    "collapsed": true
   },
   "outputs": [],
   "source": [
    "# load training and test data\n",
    "train = pd.read_csv('../data/cs-training.csv')\n",
    "test = pd.read_csv('../data/cs-test.csv')"
   ]
  },
  {
   "cell_type": "code",
   "execution_count": 5,
   "metadata": {
    "collapsed": false
   },
   "outputs": [
    {
     "name": "stdout",
     "output_type": "stream",
     "text": [
      "Shape of training set (150000, 12) and test set (101503, 12) \n"
     ]
    }
   ],
   "source": [
    "# shape of both the datasets\n",
    "print 'Shape of training set %s and test set %s ' %(train.shape, test.shape)"
   ]
  },
  {
   "cell_type": "code",
   "execution_count": 6,
   "metadata": {
    "collapsed": false
   },
   "outputs": [
    {
     "name": "stdout",
     "output_type": "stream",
     "text": [
      "Features in training set Index([u'Unnamed: 0', u'SeriousDlqin2yrs',\n",
      "       u'RevolvingUtilizationOfUnsecuredLines', u'age',\n",
      "       u'NumberOfTime30-59DaysPastDueNotWorse', u'DebtRatio', u'MonthlyIncome',\n",
      "       u'NumberOfOpenCreditLinesAndLoans', u'NumberOfTimes90DaysLate',\n",
      "       u'NumberRealEstateLoansOrLines',\n",
      "       u'NumberOfTime60-89DaysPastDueNotWorse', u'NumberOfDependents'],\n",
      "      dtype='object') \n",
      " Features in test set Index([u'Unnamed: 0', u'SeriousDlqin2yrs',\n",
      "       u'RevolvingUtilizationOfUnsecuredLines', u'age',\n",
      "       u'NumberOfTime30-59DaysPastDueNotWorse', u'DebtRatio', u'MonthlyIncome',\n",
      "       u'NumberOfOpenCreditLinesAndLoans', u'NumberOfTimes90DaysLate',\n",
      "       u'NumberRealEstateLoansOrLines',\n",
      "       u'NumberOfTime60-89DaysPastDueNotWorse', u'NumberOfDependents'],\n",
      "      dtype='object') \n"
     ]
    }
   ],
   "source": [
    "print 'Features in training set %s \\n Features in test set %s ' %(train.columns, test.columns)"
   ]
  },
  {
   "cell_type": "code",
   "execution_count": 192,
   "metadata": {
    "collapsed": true
   },
   "outputs": [],
   "source": [
    "# concatenate train and test set\n",
    "data = pd.concat([train, test])"
   ]
  },
  {
   "cell_type": "markdown",
   "metadata": {},
   "source": [
    "## Plot Histograms to see variations"
   ]
  },
  {
   "cell_type": "markdown",
   "metadata": {},
   "source": [
    "** Summary **\n",
    "* Many of the features require transformation.\n",
    "* Monthly Income and NumberOfDependents variables have missing values."
   ]
  },
  {
   "cell_type": "code",
   "execution_count": 47,
   "metadata": {
    "collapsed": false
   },
   "outputs": [
    {
     "data": {
      "image/png": "[encoded data removed]",
      "text/plain": [
       "<matplotlib.figure.Figure at 0x12bc2cc90>"
      ]
     },
     "metadata": {},
     "output_type": "display_data"
    }
   ],
   "source": [
    "sns.distplot(data['Unnamed: 0']);"
   ]
  },
  {
   "cell_type": "code",
   "execution_count": 31,
   "metadata": {
    "collapsed": false
   },
   "outputs": [
    {
     "data": {
      "image/png": "[encoded data removed]",
      "text/plain": [
       "<matplotlib.figure.Figure at 0x12bc80e90>"
      ]
     },
     "metadata": {},
     "output_type": "display_data"
    }
   ],
   "source": [
    "sns.distplot(data['age']);"
   ]
  },
  {
   "cell_type": "code",
   "execution_count": 32,
   "metadata": {
    "collapsed": false
   },
   "outputs": [
    {
     "data": {
      "image/png": "[encoded data removed]",
      "text/plain": [
       "<matplotlib.figure.Figure at 0x126791710>"
      ]
     },
     "metadata": {},
     "output_type": "display_data"
    }
   ],
   "source": [
    "sns.distplot(data['RevolvingUtilizationOfUnsecuredLines']);"
   ]
  },
  {
   "cell_type": "code",
   "execution_count": 41,
   "metadata": {
    "collapsed": false
   },
   "outputs": [
    {
     "data": {
      "image/png": "[encoded data removed]",
      "text/plain": [
       "<matplotlib.figure.Figure at 0x12b9e4950>"
      ]
     },
     "metadata": {},
     "output_type": "display_data"
    }
   ],
   "source": [
    "sns.distplot(data['RevolvingUtilizationOfUnsecuredLines'].map(np.log1p))\n",
    "plt.title('After Log transformation');"
   ]
  },
  {
   "cell_type": "code",
   "execution_count": 33,
   "metadata": {
    "collapsed": false
   },
   "outputs": [
    {
     "data": {
      "image/png": "[encoded data removed]",
      "text/plain": [
       "<matplotlib.figure.Figure at 0x12bc80f10>"
      ]
     },
     "metadata": {},
     "output_type": "display_data"
    }
   ],
   "source": [
    "sns.distplot(data['NumberOfTime30-59DaysPastDueNotWorse']);"
   ]
  },
  {
   "cell_type": "code",
   "execution_count": 42,
   "metadata": {
    "collapsed": false
   },
   "outputs": [
    {
     "data": {
      "image/png": "[encoded data removed]",
      "text/plain": [
       "<matplotlib.figure.Figure at 0x125fc5a10>"
      ]
     },
     "metadata": {},
     "output_type": "display_data"
    }
   ],
   "source": [
    "sns.distplot(data['NumberOfTime30-59DaysPastDueNotWorse'].map(np.log1p))\n",
    "plt.title('After Log Transformation');"
   ]
  },
  {
   "cell_type": "code",
   "execution_count": 34,
   "metadata": {
    "collapsed": false
   },
   "outputs": [
    {
     "data": {
      "image/png": "[encoded data removed]",
      "text/plain": [
       "<matplotlib.figure.Figure at 0x124340a90>"
      ]
     },
     "metadata": {},
     "output_type": "display_data"
    }
   ],
   "source": [
    "sns.distplot(data['DebtRatio']);"
   ]
  },
  {
   "cell_type": "code",
   "execution_count": 43,
   "metadata": {
    "collapsed": false
   },
   "outputs": [
    {
     "data": {
      "image/png": "[encoded data removed]",
      "text/plain": [
       "<matplotlib.figure.Figure at 0x125ea8a90>"
      ]
     },
     "metadata": {},
     "output_type": "display_data"
    }
   ],
   "source": [
    "sns.distplot(data['DebtRatio'].map(np.log1p))\n",
    "plt.title('After Log Transformation');"
   ]
  },
  {
   "cell_type": "code",
   "execution_count": 35,
   "metadata": {
    "collapsed": false
   },
   "outputs": [
    {
     "data": {
      "image/png": "[encoded data removed]",
      "text/plain": [
       "<matplotlib.figure.Figure at 0x12a96ea50>"
      ]
     },
     "metadata": {},
     "output_type": "display_data"
    }
   ],
   "source": [
    "sns.distplot(data['NumberOfOpenCreditLinesAndLoans']);"
   ]
  },
  {
   "cell_type": "code",
   "execution_count": 36,
   "metadata": {
    "collapsed": false
   },
   "outputs": [
    {
     "data": {
      "image/png": "[encoded data removed]",
      "text/plain": [
       "<matplotlib.figure.Figure at 0x12430b490>"
      ]
     },
     "metadata": {},
     "output_type": "display_data"
    }
   ],
   "source": [
    "sns.distplot(data['NumberOfTimes90DaysLate']);"
   ]
  },
  {
   "cell_type": "code",
   "execution_count": 37,
   "metadata": {
    "collapsed": false
   },
   "outputs": [
    {
     "data": {
      "image/png": "[encoded data removed]",
      "text/plain": [
       "<matplotlib.figure.Figure at 0x12b7617d0>"
      ]
     },
     "metadata": {},
     "output_type": "display_data"
    }
   ],
   "source": [
    "sns.distplot(data['NumberRealEstateLoansOrLines']);"
   ]
  },
  {
   "cell_type": "markdown",
   "metadata": {},
   "source": [
    "## Which of the features have missing values ?"
   ]
  },
  {
   "cell_type": "code",
   "execution_count": 9,
   "metadata": {
    "collapsed": false
   },
   "outputs": [
    {
     "data": {
      "text/plain": [
       "Unnamed: 0                              False\n",
       "SeriousDlqin2yrs                        False\n",
       "RevolvingUtilizationOfUnsecuredLines    False\n",
       "age                                     False\n",
       "NumberOfTime30-59DaysPastDueNotWorse    False\n",
       "DebtRatio                               False\n",
       "MonthlyIncome                            True\n",
       "NumberOfOpenCreditLinesAndLoans         False\n",
       "NumberOfTimes90DaysLate                 False\n",
       "NumberRealEstateLoansOrLines            False\n",
       "NumberOfTime60-89DaysPastDueNotWorse    False\n",
       "NumberOfDependents                       True\n",
       "dtype: bool"
      ]
     },
     "execution_count": 9,
     "metadata": {},
     "output_type": "execute_result"
    }
   ],
   "source": [
    "train.isnull().any()"
   ]
  },
  {
   "cell_type": "markdown",
   "metadata": {},
   "source": [
    "## Imputation Strategies\n",
    "\n",
    "* Impute missing values with mean of the values\n",
    "* Impute missing values with median of the values\n",
    "* Impute missing values with mode of the values\n",
    "* Impute missing values based on the target variable\n",
    "\n",
    "** This will essentially create 4 different representation of the dataset **"
   ]
  },
  {
   "cell_type": "code",
   "execution_count": 334,
   "metadata": {
    "collapsed": false
   },
   "outputs": [],
   "source": [
    "class Imputation(object):\n",
    "    \n",
    "    def __init__(self, df, strategy):\n",
    "        \"\"\"\n",
    "        Args:\n",
    "            df: Dataframe ( concatenated train and test dataframes )\n",
    "        \"\"\"\n",
    "        self.strategy = strategy\n",
    "        self.df = df.copy()\n",
    "    \n",
    "    def get_df(self):\n",
    "        \"\"\"\n",
    "        Returns the data frame\n",
    "        \"\"\"\n",
    "        return self.df\n",
    "    \n",
    "    def features_with_missing_values(self):\n",
    "        \"\"\"\n",
    "        Returns features with missing values\n",
    "        \"\"\"\n",
    "        \n",
    "        # omit the target variable\n",
    "        columns = self.df.columns\n",
    "        missing_val_features = list(columns[self.df.isnull().any()].values)\n",
    "        self.missing_val_features = np.array(filter(lambda x: x != 'SeriousDlqin2yrs', missing_val_features))\n",
    "        return self.missing_val_features\n",
    "        \n",
    "    \n",
    "    def fill_missing_values(self):\n",
    "        \"\"\"\n",
    "        Fill the missing values\n",
    "        \"\"\"\n",
    "        \n",
    "        strategy = self.strategy\n",
    "        missing_val_features = self.missing_val_features\n",
    "        \n",
    "        for feat in missing_val_features:\n",
    "            if strategy == 'mean':\n",
    "                self.df[feat] = self.df[feat].fillna(self.df[feat].mean())\n",
    "            elif strategy == 'median':\n",
    "                self.df[feat] = self.df[feat].fillna(self.df[feat].median())\n",
    "            elif strategy == 'mode':\n",
    "                self.df[feat] = self.df[feat].fillna(self.df[feat].mode()[0])\n",
    "    "
   ]
  },
  {
   "cell_type": "markdown",
   "metadata": {
    "collapsed": true
   },
   "source": [
    "## Datasets\n",
    "\n",
    "** Objective is to create different instances of the dataset. Make sure whatever we do to the training examples must be applied to test examples as well. **\n",
    "\n",
    "* Create instances based on different imputation strategies\n",
    "* Create instances based on different features selected\n",
    "* Create instances based on how we encode variables ( One Hot Encoding or Label Encoding etc. )\n",
    "* Create instances based on example subset of rows chosen based on some criteria ( example omit outliers. )"
   ]
  },
  {
   "cell_type": "code",
   "execution_count": 335,
   "metadata": {
    "collapsed": true
   },
   "outputs": [],
   "source": [
    "class Datasets(object):\n",
    "    \n",
    "    def __init__(self, df):\n",
    "        self.df = df\n",
    "        self.strategies = ['mean', 'mode', 'median']\n",
    "        self.features_to_transform = ['RevolvingUtilizationOfUnsecuredLines', 'NumberOfTime30-59DaysPastDueNotWorse',\n",
    "                                      'DebtRatio', 'NumberOfTimes90DaysLate', 'NumberRealEstateLoansOrLines']\n",
    "        \n",
    "    def get_df_by_imputation(self):\n",
    "        \"\"\"\n",
    "        Returns pair of train and test dataframes based on different imputation\n",
    "        strategies.\n",
    "        \"\"\"\n",
    "        \n",
    "        strategies = self.strategies\n",
    "        datasets = [] # tuple of train and test data frames\n",
    "        \n",
    "        for strategy in strategies:\n",
    "            df = self.df.copy()\n",
    "            impute = Imputation(df, strategy)\n",
    "            \n",
    "            missing_val_features = impute.features_with_missing_values()\n",
    "            \n",
    "            impute.fill_missing_values()        \n",
    "            imputed_df = impute.get_df()\n",
    "            \n",
    "            mask = imputed_df.SeriousDlqin2yrs.notnull()\n",
    "            train_df = imputed_df[mask]\n",
    "            test_df = imputed_df[~mask]\n",
    "            \n",
    "            datasets.append((train_df, test_df))\n",
    "        \n",
    "        return datasets\n",
    "    \n",
    "    def transform_features(self):\n",
    "        \"\"\"\n",
    "        Transforms features that needs to be transformed ( we will use logarithmic transformation ) for now\n",
    "        TODO: try out different transformations to see how well they perform\n",
    "        \"\"\"\n",
    "        \n",
    "        features_to_transform = self.features_to_transform\n",
    "        df = self.df\n",
    "        \n",
    "        for feat in features_to_transform:\n",
    "            df[feat] = df[feat].map(np.log1p) # we have hardcoded this transformation function for now\n",
    "        \n",
    "        self.df = df\n",
    "    "
   ]
  },
  {
   "cell_type": "code",
   "execution_count": 336,
   "metadata": {
    "collapsed": true
   },
   "outputs": [],
   "source": [
    "dataset = Datasets(data)"
   ]
  },
  {
   "cell_type": "code",
   "execution_count": 337,
   "metadata": {
    "collapsed": false
   },
   "outputs": [],
   "source": [
    "dataset.transform_features()\n",
    "datasets = dataset.get_df_by_imputation()"
   ]
  },
  {
   "cell_type": "markdown",
   "metadata": {
    "collapsed": true
   },
   "source": [
    "## Models\n",
    "\n",
    "\n",
    "** Experiment 1: Try out XGBoost model on different data representations to see how they perform **"
   ]
  },
  {
   "cell_type": "code",
   "execution_count": 200,
   "metadata": {
    "collapsed": true
   },
   "outputs": [],
   "source": [
    "def perform_cv(data, est):\n",
    "    \"\"\"\n",
    "    Takes in training dataset and perform k-fold stratified cross validation\n",
    "    based on a model to see how it performs.\n",
    "    \n",
    "    Args:\n",
    "        data: Data that would be used to train our estimator\n",
    "        est: Estimator/Model that we would fit on the dataset\n",
    "    \n",
    "    Returns:\n",
    "        List of auc scores\n",
    "        Mean Auc score\n",
    "    \"\"\"\n",
    "    target = 'SeriousDlqin2yrs'\n",
    "    X = data[data.columns.drop(target)]\n",
    "    y = data[target]\n",
    "    \n",
    "    skf = StratifiedKFold(y, n_folds=3, shuffle=True, random_state=44)\n",
    "    \n",
    "    auc_scores = []\n",
    "    \n",
    "    for train_index, val_index in skf:\n",
    "        X_train = X.iloc[train_index]\n",
    "        y_train = y.iloc[train_index]\n",
    "        \n",
    "        X_val = X.iloc[val_index]\n",
    "        y_val = y.iloc[val_index]\n",
    "        \n",
    "        est.fit(X_train, y_train)\n",
    "        predsValidation = est.predict_proba(X_val)[:, 1]\n",
    "        \n",
    "        auc_scores = roc_auc_score(y_val, predsValidation)\n",
    "    \n",
    "    return auc_scores, auc_scores.mean()"
   ]
  },
  {
   "cell_type": "code",
   "execution_count": 201,
   "metadata": {
    "collapsed": false
   },
   "outputs": [
    {
     "name": "stdout",
     "output_type": "stream",
     "text": [
      "Mean AUC score after 3-fold cv is 0.864523 for strategy mean \n",
      "Mean AUC score after 3-fold cv is 0.864363 for strategy mode \n",
      "Mean AUC score after 3-fold cv is 0.864597 for strategy median \n",
      "Mean AUC score after 3-fold cv is 0.864478 for strategy other \n"
     ]
    }
   ],
   "source": [
    "strategies = ['mean', 'mode', 'median']\n",
    "est = XGBClassifier() # estimator to be used to fit our different datasets\n",
    "\n",
    "for i in range(len(strategies)):\n",
    "    auc_scores, mean_auc_score = perform_cv(datasets[i][0], est)\n",
    "    print 'Mean AUC score after 3-fold cv is %f for strategy %s ' %(mean_auc_score, strategies[i])"
   ]
  },
  {
   "cell_type": "code",
   "execution_count": 223,
   "metadata": {
    "collapsed": true
   },
   "outputs": [],
   "source": [
    "def get_train_test_index(length, test_size=0.3):\n",
    "    \"\"\"\n",
    "    Return list of indexes for training and test set based on test_size mentioned\n",
    "    \n",
    "    Args:\n",
    "        length: number of instances in df\n",
    "        test_size: Percentage of instances to be reserved for test set\n",
    "    Return:\n",
    "        List of train and test indexes\n",
    "    \"\"\"\n",
    "    shuffled_index = np.random.permutation(length)\n",
    "    num_instances_for_train_set = int(length * (1 - test_size))\n",
    "    \n",
    "    train_index = shuffled_index[:num_instances_for_train_set]\n",
    "    test_index = shuffled_index[num_instances_for_train_set:]\n",
    "    \n",
    "    return train_index, test_index\n",
    "    \n",
    "    \n",
    "def tune_parameters(data, est):\n",
    "    \"\"\"\n",
    "    Takes in training dataset and do k-fold cross validation to find out\n",
    "    what parameter settings works best and then for that setting check the test score to see how well\n",
    "    the estimator performs on unseen data\n",
    "    \n",
    "    Args:\n",
    "        data: Data that would be used to train our estmator\n",
    "        est: estimator ( Estimator with initial parameter settings )\n",
    "    \n",
    "    Returns:\n",
    "        Score of best model found on unseen examples and the best estimator as well\n",
    "    \"\"\"\n",
    "    parameters = {\n",
    "        'n_estimators': (100, 500, 1000),\n",
    "        'max_depth': (4, 6, 8),\n",
    "        'colsample_bytree': (0.8, 0.9),\n",
    "        'subsample': (0.8, 0.9)\n",
    "    }\n",
    "    \n",
    "    target = 'SeriousDlqin2yrs'\n",
    "    X = data[data.columns.drop(target)]\n",
    "    y = data[target]\n",
    "    \n",
    "    skf = StratifiedKFold(y, n_folds=3, shuffle=True, random_state=44)\n",
    "    \n",
    "    # shuffle data frame\n",
    "    train_index, test_index = next(iter(skf))\n",
    "    \n",
    "    X_train = X.iloc[train_index]\n",
    "    y_train = y.iloc[train_index]\n",
    "    \n",
    "    X_test = X.iloc[test_index]\n",
    "    y_test = y.iloc[test_index]\n",
    "    \n",
    "    # use X_train, y_train to find out best parameter settings and then test out performance on unseen\n",
    "    # set i.e. (X_test, y_test)\n",
    "    \n",
    "    skf = StratifiedKFold(y_train, n_folds=3, shuffle=True, random_state=44)\n",
    "    \n",
    "    clf = GridSearchCV(est, parameters, scoring='roc_auc', cv=skf, n_jobs=-1)\n",
    "    clf.fit(X_train, y_train)\n",
    "    \n",
    "    print 'best AUC score %f ' %(clf.best_score_)\n",
    "    \n",
    "    preds = clf.best_estimator_.predict_proba(X_test)[:, 1]\n",
    "    auc_score = roc_auc_score(y_test, preds)\n",
    "    print 'AUC score on unseen data %f' %(auc_score)\n",
    "    \n",
    "    \n",
    "    return auc_score, clf.best_estimator_"
   ]
  },
  {
   "cell_type": "code",
   "execution_count": 146,
   "metadata": {
    "collapsed": false
   },
   "outputs": [],
   "source": [
    "def predict(data, test, est):\n",
    "    \"\"\"\n",
    "    Takes in an datasets, estimator, fits a model on one data representation and\n",
    "    predict on corresponding test set\n",
    "    \n",
    "    Args:\n",
    "        data: Dataset Representation ( Training set )\n",
    "        test: Dataset Representation ( Test set )\n",
    "        est: Estimator/Model that we would fit on this representation\n",
    "    \n",
    "    Return:\n",
    "        predictions: Probability of YES\n",
    "    \"\"\"\n",
    "    \n",
    "    target = 'SeriousDlqin2yrs'\n",
    "    X = data[data.columns.drop(target)]\n",
    "    y = data[target]\n",
    "    \n",
    "    test = test[test.columns.drop(target)]\n",
    "    \n",
    "    est.fit(X, y)\n",
    "    \n",
    "    return est.predict_proba(test)[:, 1]"
   ]
  },
  {
   "cell_type": "code",
   "execution_count": 330,
   "metadata": {
    "collapsed": false
   },
   "outputs": [],
   "source": [
    "strategies = ['mean', 'mode', 'median']\n",
    "est = XGBClassifier() # estimator to be used to fit our different datasets\n",
    "predictions = []\n",
    "\n",
    "for i in range(len(strategies)):\n",
    "    predictions.append(predict(datasets[i][0], datasets[i][1], est))"
   ]
  },
  {
   "cell_type": "code",
   "execution_count": 149,
   "metadata": {
    "collapsed": true
   },
   "outputs": [],
   "source": [
    "assert len(predictions) == len(strategies)"
   ]
  },
  {
   "cell_type": "markdown",
   "metadata": {},
   "source": [
    "### Hyper Parameter Tuning"
   ]
  },
  {
   "cell_type": "code",
   "execution_count": 224,
   "metadata": {
    "collapsed": false
   },
   "outputs": [
    {
     "name": "stdout",
     "output_type": "stream",
     "text": [
      "best AUC score 0.863573 \n",
      "AUC score on unseen data 0.865831\n"
     ]
    }
   ],
   "source": [
    "# consider dataset with median imputation as it performed best on our cross-validation\n",
    "score_grid_search, best_estimator = tune_parameters(datasets[2][0], XGBClassifier())"
   ]
  },
  {
   "cell_type": "markdown",
   "metadata": {},
   "source": [
    "## Predictions"
   ]
  },
  {
   "cell_type": "code",
   "execution_count": 341,
   "metadata": {
    "collapsed": true
   },
   "outputs": [],
   "source": [
    "strategies = ['mean', 'mode', 'median']\n",
    "\n",
    "estimators = [XGBClassifier(n_estimators=100, learning_rate=0.3), \n",
    "              XGBClassifier(n_estimators=500, max_depth=4, subsample=0.8, learning_rate=0.08),\n",
    "              LogisticRegression()]\n",
    "\n",
    "predictions = []\n",
    "\n",
    "for i in range(len(strategies)):\n",
    "    for j in range(len(estimators)):\n",
    "        predictions.append(predict(datasets[i][0], datasets[i][1], estimators[j]))"
   ]
  },
  {
   "cell_type": "markdown",
   "metadata": {},
   "source": [
    "### Train different models"
   ]
  },
  {
   "cell_type": "markdown",
   "metadata": {},
   "source": [
    "<p>We have four different representation of the data, we can train different different models on all of the representation to generate many possible candidates which we can filter out later based on the results of cross validation and performance on unseen examples.</p>"
   ]
  },
  {
   "cell_type": "code",
   "execution_count": 338,
   "metadata": {
    "collapsed": true
   },
   "outputs": [],
   "source": [
    "def train_different_models(datasets):\n",
    "    \"\"\"\n",
    "    Iterate over different datasets and models and do k-fold cross-validation for each of the model selected and store\n",
    "    information regarding their performance on unseen examples\n",
    "    \n",
    "    Args:\n",
    "        datasets: Training datasets\n",
    "    Returns:\n",
    "        Array of tuples of dataset information and scores of these estimators on unseen examples\n",
    "    \"\"\"\n",
    "    \n",
    "    strategies = ['mean', 'mode', 'median']\n",
    "    # consider only xgboost models and logistic regression model for now\n",
    "    \n",
    "    estimators = [XGBClassifier(n_estimators=100, learning_rate=0.3),\n",
    "                  XGBClassifier(n_estimators=500, max_depth=4, subsample=0.8, learning_rate=0.08),\n",
    "#                   XGBClassifier(n_estimators=500, learning_rate=0.08, max_depth=6),\n",
    "                  LogisticRegression(class_weight='auto')]\n",
    "    \n",
    "    scores = []\n",
    "    \n",
    "    for i in range(len(strategies)):\n",
    "        target = 'SeriousDlqin2yrs'\n",
    "        X = datasets[i][0][data.columns.drop(target)]\n",
    "        y = datasets[i][0][target]\n",
    "        \n",
    "        skf = StratifiedKFold(y, n_folds=3, shuffle=True, random_state=44)\n",
    "    \n",
    "        for j in range(len(estimators)):\n",
    "            score = 0.0\n",
    "            for train_index, test_index in skf:\n",
    "                X_train = X.iloc[train_index]\n",
    "                y_train = y.iloc[train_index]\n",
    "                \n",
    "                X_test = X.iloc[test_index]\n",
    "                y_test = y.iloc[test_index]\n",
    "                \n",
    "                # preprocessing for linear model\n",
    "                if j == 0:\n",
    "                    scaler = StandardScaler()\n",
    "                    X_train = scaler.fit_transform(X_train)\n",
    "                    X_test = scaler.transform(X_test)\n",
    "                \n",
    "                estimators[j].fit(X_train, y_train)\n",
    "                preds = estimators[j].predict_proba(X_test)[:, 1]\n",
    "                score += roc_auc_score(y_test, preds)\n",
    "                \n",
    "            \n",
    "            scores.append(((i,j), score/3.))\n",
    "    return scores\n",
    "            \n",
    "    "
   ]
  },
  {
   "cell_type": "code",
   "execution_count": 339,
   "metadata": {
    "collapsed": false
   },
   "outputs": [],
   "source": [
    "scores = train_different_models(datasets)"
   ]
  },
  {
   "cell_type": "code",
   "execution_count": 340,
   "metadata": {
    "collapsed": false
   },
   "outputs": [
    {
     "data": {
      "text/plain": [
       "[((0, 0), 0.86334077628180872),\n",
       " ((0, 1), 0.86261312768207787),\n",
       " ((0, 2), 0.84277292943785742),\n",
       " ((1, 0), 0.8633130781396634),\n",
       " ((1, 1), 0.86268875192577654),\n",
       " ((1, 2), 0.84288330408664347),\n",
       " ((2, 0), 0.86316130164106653),\n",
       " ((2, 1), 0.86280408923852725),\n",
       " ((2, 2), 0.84285051181215775)]"
      ]
     },
     "execution_count": 340,
     "metadata": {},
     "output_type": "execute_result"
    }
   ],
   "source": [
    "scores"
   ]
  },
  {
   "cell_type": "markdown",
   "metadata": {},
   "source": [
    "## Finding correct set of weights"
   ]
  },
  {
   "cell_type": "code",
   "execution_count": 363,
   "metadata": {
    "collapsed": true
   },
   "outputs": [],
   "source": [
    "def find_weights(data, estimators):\n",
    "    \"\"\"\n",
    "    Takes in our training dataframe and 2 models that we intend to test and split the dataframe into train and test\n",
    "    and find out the weights which gives us the best models\n",
    "    \"\"\"\n",
    "    \n",
    "    target = 'SeriousDlqin2yrs'\n",
    "    X = data[data.columns.drop(target)]\n",
    "    y = data[target]\n",
    "    \n",
    "    skf = StratifiedKFold(y, n_folds=3, shuffle=True, random_state=42)\n",
    "    train_index, test_index = next(iter(skf))\n",
    "    \n",
    "    X_train = X.iloc[train_index]\n",
    "    y_train = y.iloc[train_index]\n",
    "\n",
    "    X_test = X.iloc[test_index]\n",
    "    y_test = y.iloc[test_index]\n",
    "    \n",
    "    weights = np.linspace(0, 1, 20)\n",
    "    best_score = 0\n",
    "    \n",
    "    for i in range(len(estimators)):\n",
    "        for j in range(i+1, len(estimators)):\n",
    "            for alpha in weights:\n",
    "                estimators[i].fit(X_train, y_train)\n",
    "                estimators[j].fit(X_train, y_train)\n",
    "\n",
    "                preds_i = estimators[i].predict_proba(X_test)[:, 1]\n",
    "                preds_j = estimators[j].predict_proba(X_test)[:, 1]\n",
    "\n",
    "                preds = alpha * preds_i + (1-alpha) * preds_j\n",
    "                score = roc_auc_score(y_test, preds)\n",
    "\n",
    "                if score > best_score:\n",
    "                    best_score = score\n",
    "                    best_pair = (i, j)\n",
    "                    best_alpha = alpha\n",
    "    \n",
    "    return best_score, best_pair, best_alpha"
   ]
  },
  {
   "cell_type": "code",
   "execution_count": 368,
   "metadata": {
    "collapsed": false
   },
   "outputs": [],
   "source": [
    "estimators = [XGBClassifier(n_estimators=100, learning_rate=0.3, seed=123),\n",
    "              XGBClassifier(n_estimators=500, learning_rate=0.1, seed=1234)]\n",
    "best_score, best_pair, alpha = find_weights(datasets[0][0], estimators)"
   ]
  },
  {
   "cell_type": "code",
   "execution_count": 372,
   "metadata": {
    "collapsed": false
   },
   "outputs": [
    {
     "name": "stdout",
     "output_type": "stream",
     "text": [
      "Best AUC score = 0.861922959327, alpha = 0.421052631579\n"
     ]
    }
   ],
   "source": [
    "print 'Best AUC score = {0}, alpha = {1}'.format(best_score, alpha)"
   ]
  },
  {
   "cell_type": "code",
   "execution_count": 373,
   "metadata": {
    "collapsed": true
   },
   "outputs": [],
   "source": [
    "xgb_100 = predict(datasets[0][0], datasets[0][1], estimators[0])\n",
    "xgb_500 = predict(datasets[0][0], datasets[0][1], estimators[1])\n",
    "\n",
    "ranks_100 = get_ranks(xgb_100)\n",
    "ranks_500 = get_ranks(xgb_500)\n",
    "\n",
    "final_prediction = alpha * (xgb_100) + (1-alpha) * xgb_500\n",
    "final_ranks = alpha * (ranks_100) + (1-alpha) * ranks_500"
   ]
  },
  {
   "cell_type": "markdown",
   "metadata": {},
   "source": [
    "## Prepare Submission"
   ]
  },
  {
   "cell_type": "code",
   "execution_count": 331,
   "metadata": {
    "collapsed": true
   },
   "outputs": [],
   "source": [
    "# load in sample submission dataframe\n",
    "submission_df = pd.read_csv('../data/sampleEntry.csv')"
   ]
  },
  {
   "cell_type": "code",
   "execution_count": 342,
   "metadata": {
    "collapsed": true
   },
   "outputs": [],
   "source": [
    "# convert prediction to ranks\n",
    "ranks = [get_ranks(pred) for pred in predictions]"
   ]
  },
  {
   "cell_type": "code",
   "execution_count": 349,
   "metadata": {
    "collapsed": false
   },
   "outputs": [],
   "source": [
    "# lets take ensemble of all the four models\n",
    "ranks_ = np.array(ranks).T\n",
    "ranks_df = pd.DataFrame(ranks_, columns=np.arange(0, 9))"
   ]
  },
  {
   "cell_type": "code",
   "execution_count": 351,
   "metadata": {
    "collapsed": false
   },
   "outputs": [
    {
     "data": {
      "text/html": [
       "<div>\n",
       "<table border=\"1\" class=\"dataframe\">\n",
       "  <thead>\n",
       "    <tr style=\"text-align: right;\">\n",
       "      <th></th>\n",
       "      <th>0</th>\n",
       "      <th>1</th>\n",
       "      <th>2</th>\n",
       "      <th>3</th>\n",
       "      <th>4</th>\n",
       "      <th>5</th>\n",
       "      <th>6</th>\n",
       "      <th>7</th>\n",
       "      <th>8</th>\n",
       "    </tr>\n",
       "  </thead>\n",
       "  <tbody>\n",
       "    <tr>\n",
       "      <th>0</th>\n",
       "      <td>1.000000</td>\n",
       "      <td>0.980217</td>\n",
       "      <td>0.468916</td>\n",
       "      <td>0.988855</td>\n",
       "      <td>0.979266</td>\n",
       "      <td>0.473933</td>\n",
       "      <td>0.990753</td>\n",
       "      <td>0.978754</td>\n",
       "      <td>0.474989</td>\n",
       "    </tr>\n",
       "    <tr>\n",
       "      <th>1</th>\n",
       "      <td>0.980217</td>\n",
       "      <td>1.000000</td>\n",
       "      <td>0.458821</td>\n",
       "      <td>0.980097</td>\n",
       "      <td>0.993565</td>\n",
       "      <td>0.464883</td>\n",
       "      <td>0.980512</td>\n",
       "      <td>0.994334</td>\n",
       "      <td>0.465925</td>\n",
       "    </tr>\n",
       "    <tr>\n",
       "      <th>2</th>\n",
       "      <td>0.468916</td>\n",
       "      <td>0.458821</td>\n",
       "      <td>1.000000</td>\n",
       "      <td>0.461844</td>\n",
       "      <td>0.455378</td>\n",
       "      <td>0.984656</td>\n",
       "      <td>0.462307</td>\n",
       "      <td>0.455206</td>\n",
       "      <td>0.985672</td>\n",
       "    </tr>\n",
       "    <tr>\n",
       "      <th>3</th>\n",
       "      <td>0.988855</td>\n",
       "      <td>0.980097</td>\n",
       "      <td>0.461844</td>\n",
       "      <td>1.000000</td>\n",
       "      <td>0.980051</td>\n",
       "      <td>0.467083</td>\n",
       "      <td>0.990450</td>\n",
       "      <td>0.979442</td>\n",
       "      <td>0.468235</td>\n",
       "    </tr>\n",
       "    <tr>\n",
       "      <th>4</th>\n",
       "      <td>0.979266</td>\n",
       "      <td>0.993565</td>\n",
       "      <td>0.455378</td>\n",
       "      <td>0.980051</td>\n",
       "      <td>1.000000</td>\n",
       "      <td>0.462068</td>\n",
       "      <td>0.980460</td>\n",
       "      <td>0.994229</td>\n",
       "      <td>0.463127</td>\n",
       "    </tr>\n",
       "    <tr>\n",
       "      <th>5</th>\n",
       "      <td>0.473933</td>\n",
       "      <td>0.464883</td>\n",
       "      <td>0.984656</td>\n",
       "      <td>0.467083</td>\n",
       "      <td>0.462068</td>\n",
       "      <td>1.000000</td>\n",
       "      <td>0.470117</td>\n",
       "      <td>0.461480</td>\n",
       "      <td>0.999954</td>\n",
       "    </tr>\n",
       "    <tr>\n",
       "      <th>6</th>\n",
       "      <td>0.990753</td>\n",
       "      <td>0.980512</td>\n",
       "      <td>0.462307</td>\n",
       "      <td>0.990450</td>\n",
       "      <td>0.980460</td>\n",
       "      <td>0.470117</td>\n",
       "      <td>1.000000</td>\n",
       "      <td>0.979757</td>\n",
       "      <td>0.471077</td>\n",
       "    </tr>\n",
       "    <tr>\n",
       "      <th>7</th>\n",
       "      <td>0.978754</td>\n",
       "      <td>0.994334</td>\n",
       "      <td>0.455206</td>\n",
       "      <td>0.979442</td>\n",
       "      <td>0.994229</td>\n",
       "      <td>0.461480</td>\n",
       "      <td>0.979757</td>\n",
       "      <td>1.000000</td>\n",
       "      <td>0.462538</td>\n",
       "    </tr>\n",
       "    <tr>\n",
       "      <th>8</th>\n",
       "      <td>0.474989</td>\n",
       "      <td>0.465925</td>\n",
       "      <td>0.985672</td>\n",
       "      <td>0.468235</td>\n",
       "      <td>0.463127</td>\n",
       "      <td>0.999954</td>\n",
       "      <td>0.471077</td>\n",
       "      <td>0.462538</td>\n",
       "      <td>1.000000</td>\n",
       "    </tr>\n",
       "  </tbody>\n",
       "</table>\n",
       "</div>"
      ],
      "text/plain": [
       "          0         1         2         3         4         5         6  \\\n",
       "0  1.000000  0.980217  0.468916  0.988855  0.979266  0.473933  0.990753   \n",
       "1  0.980217  1.000000  0.458821  0.980097  0.993565  0.464883  0.980512   \n",
       "2  0.468916  0.458821  1.000000  0.461844  0.455378  0.984656  0.462307   \n",
       "3  0.988855  0.980097  0.461844  1.000000  0.980051  0.467083  0.990450   \n",
       "4  0.979266  0.993565  0.455378  0.980051  1.000000  0.462068  0.980460   \n",
       "5  0.473933  0.464883  0.984656  0.467083  0.462068  1.000000  0.470117   \n",
       "6  0.990753  0.980512  0.462307  0.990450  0.980460  0.470117  1.000000   \n",
       "7  0.978754  0.994334  0.455206  0.979442  0.994229  0.461480  0.979757   \n",
       "8  0.474989  0.465925  0.985672  0.468235  0.463127  0.999954  0.471077   \n",
       "\n",
       "          7         8  \n",
       "0  0.978754  0.474989  \n",
       "1  0.994334  0.465925  \n",
       "2  0.455206  0.985672  \n",
       "3  0.979442  0.468235  \n",
       "4  0.994229  0.463127  \n",
       "5  0.461480  0.999954  \n",
       "6  0.979757  0.471077  \n",
       "7  1.000000  0.462538  \n",
       "8  0.462538  1.000000  "
      ]
     },
     "execution_count": 351,
     "metadata": {},
     "output_type": "execute_result"
    }
   ],
   "source": [
    "# correlation among predictions\n",
    "ranks_df.corr()"
   ]
  },
  {
   "cell_type": "code",
   "execution_count": 333,
   "metadata": {
    "collapsed": true
   },
   "outputs": [],
   "source": [
    "# save submission prepared from dataset with strategy = 'other'\n",
    "save_submission(submission_df, predictions[3], 'others_fixed.csv') # 0.865701 on private leaderboard"
   ]
  },
  {
   "cell_type": "code",
   "execution_count": null,
   "metadata": {
    "collapsed": true
   },
   "outputs": [],
   "source": [
    "# submit ranks instead of probabilities\n",
    "save_submission(submission_df, ranks[3], 'ranks_others.csv') # 0.865700 on private leaderboard"
   ]
  },
  {
   "cell_type": "code",
   "execution_count": null,
   "metadata": {
    "collapsed": true
   },
   "outputs": [],
   "source": [
    "# save submission prepared by tunining parameters of xgboost model with strategy = 'median'\n",
    "save_submission(submission_df, predictions[2], 'median.csv') # 0.866680 on private leaderboard\n",
    "save_submission(submission_df, ranks[2], 'ranks_median.csv') # 0.866680 on private leaderboard"
   ]
  },
  {
   "cell_type": "code",
   "execution_count": 374,
   "metadata": {
    "collapsed": false
   },
   "outputs": [],
   "source": [
    "# blend of two xgboost models\n",
    "save_submission(submission_df, final_prediction, 'blend_prediction.csv') # 0.865241 on private leaderboard\n",
    "save_submission(submission_df, final_ranks, 'blend_ranks.csv') # "
   ]
  },
  {
   "cell_type": "code",
   "execution_count": 352,
   "metadata": {
    "collapsed": false
   },
   "outputs": [],
   "source": [
    "mean_ranks = ranks_df.mean(axis=1).values\n",
    "save_submission(submission_df, mean_ranks, 'mean_ranks_log_xgboost.csv') # 0.866915 on private leaderboard ( 121 / 925 )"
   ]
  },
  {
   "cell_type": "code",
   "execution_count": null,
   "metadata": {
    "collapsed": true
   },
   "outputs": [],
   "source": []
  }
 ],
 "metadata": {
  "kernelspec": {
   "display_name": "Python 2",
   "language": "python",
   "name": "python2"
  },
  "language_info": {
   "codemirror_mode": {
    "name": "ipython",
    "version": 2
   },
   "file_extension": ".py",
   "mimetype": "text/x-python",
   "name": "python",
   "nbconvert_exporter": "python",
   "pygments_lexer": "ipython2",
   "version": "2.7.11"
  }
 },
 "nbformat": 4,
 "nbformat_minor": 0
}
