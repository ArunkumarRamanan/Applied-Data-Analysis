{
 "cells": [
  {
   "cell_type": "code",
   "execution_count": 1,
   "metadata": {
    "collapsed": false
   },
   "outputs": [],
   "source": [
    "import pandas as pd\n",
    "import numpy as np"
   ]
  },
  {
   "cell_type": "code",
   "execution_count": 2,
   "metadata": {
    "collapsed": true
   },
   "outputs": [],
   "source": [
    "def str_to_num(string):\n",
    "    return int(string.split()[1])"
   ]
  },
  {
   "cell_type": "code",
   "execution_count": 3,
   "metadata": {
    "collapsed": true
   },
   "outputs": [],
   "source": [
    "# load train and test files\n",
    "train = pd.read_csv('../data/train.csv', converters={'location': str_to_num})\n",
    "test = pd.read_csv('../data/test.csv', converters={'location': str_to_num})"
   ]
  },
  {
   "cell_type": "code",
   "execution_count": 4,
   "metadata": {
    "collapsed": true
   },
   "outputs": [],
   "source": [
    "data = pd.concat([train, test], axis=0)"
   ]
  },
  {
   "cell_type": "code",
   "execution_count": 5,
   "metadata": {
    "collapsed": true
   },
   "outputs": [],
   "source": [
    "# load other files\n",
    "\n",
    "event_types = pd.read_csv('../data/event_type.csv', converters={'event_type': str_to_num})\n",
    "log_features = pd.read_csv('../data/log_feature.csv', converters={'log_feature': str_to_num})\n",
    "resource_types = pd.read_csv('../data/resource_type.csv', converters={'resource_type': str_to_num})\n",
    "severity_types = pd.read_csv('../data/severity_type.csv', converters={'severity_type': str_to_num})"
   ]
  },
  {
   "cell_type": "markdown",
   "metadata": {},
   "source": [
    "### Merge Location and Event Type Data"
   ]
  },
  {
   "cell_type": "code",
   "execution_count": 45,
   "metadata": {
    "collapsed": true
   },
   "outputs": [],
   "source": [
    "events_grouped = event_types.groupby(['id', 'event_type']).size().unstack(1).fillna(0)\n",
    "events_grouped.columns = ['event_type_' + str(col) for col in events_grouped.columns]\n",
    "events_grouped = events_grouped.reset_index()"
   ]
  },
  {
   "cell_type": "code",
   "execution_count": 46,
   "metadata": {
    "collapsed": false
   },
   "outputs": [],
   "source": [
    "data_merged = pd.merge(data, events_grouped, on='id', how='left')\n",
    "train_df = data_merged.loc[data_merged.fault_severity.notnull()]\n",
    "test_df = data_merged.loc[data_merged.fault_severity.isnull(), data_merged.columns[1:]]"
   ]
  },
  {
   "cell_type": "markdown",
   "metadata": {},
   "source": [
    "### Merge Location and Log Feature"
   ]
  },
  {
   "cell_type": "code",
   "execution_count": 44,
   "metadata": {
    "collapsed": false
   },
   "outputs": [],
   "source": [
    "log_feature_grouped = log_features.groupby(['id', 'log_feature']).sum().unstack(1).fillna(0)\n",
    "log_feature_grouped.columns = ['feature_type_' + str(col) for col in log_feature_grouped.columns]\n",
    "log_feature_grouped = log_feature_grouped.reset_index()"
   ]
  },
  {
   "cell_type": "code",
   "execution_count": 48,
   "metadata": {
    "collapsed": false
   },
   "outputs": [],
   "source": [
    "data_merged = pd.merge(data_merged, log_feature_grouped, on='id', how='left')\n",
    "train_df = data_merged.loc[data_merged.fault_severity.notnull()]\n",
    "test_df = data_merged.loc[data_merged.fault_severity.isnull(), data_merged.columns[1:]]"
   ]
  },
  {
   "cell_type": "code",
   "execution_count": 52,
   "metadata": {
    "collapsed": true
   },
   "outputs": [],
   "source": [
    "train_df.to_csv('../processed/processed_train.csv', index=False)\n",
    "test_df.to_csv('../processed/processed_test.csv', index=False)"
   ]
  },
  {
   "cell_type": "code",
   "execution_count": null,
   "metadata": {
    "collapsed": true
   },
   "outputs": [],
   "source": []
  },
  {
   "cell_type": "code",
   "execution_count": null,
   "metadata": {
    "collapsed": true
   },
   "outputs": [],
   "source": []
  },
  {
   "cell_type": "code",
   "execution_count": null,
   "metadata": {
    "collapsed": true
   },
   "outputs": [],
   "source": []
  }
 ],
 "metadata": {
  "kernelspec": {
   "display_name": "Python 2",
   "language": "python",
   "name": "python2"
  },
  "language_info": {
   "codemirror_mode": {
    "name": "ipython",
    "version": 2
   },
   "file_extension": ".py",
   "mimetype": "text/x-python",
   "name": "python",
   "nbconvert_exporter": "python",
   "pygments_lexer": "ipython2",
   "version": "2.7.11"
  }
 },
 "nbformat": 4,
 "nbformat_minor": 0
}
