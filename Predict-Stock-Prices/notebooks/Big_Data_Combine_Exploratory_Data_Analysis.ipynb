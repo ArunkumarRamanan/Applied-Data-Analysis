{
 "cells": [
  {
   "cell_type": "code",
   "execution_count": 205,
   "metadata": {
    "collapsed": true
   },
   "outputs": [],
   "source": [
    "import pandas as pd\n",
    "import numpy as np\n",
    "\n",
    "import matplotlib.pyplot as plt\n",
    "import seaborn as sns\n",
    "\n",
    "import os\n",
    "import scipy.stats as stats\n",
    "\n",
    "from __future__ import division\n",
    "\n",
    "PATH = '../data/data/'\n",
    "\n",
    "%matplotlib inline"
   ]
  },
  {
   "cell_type": "markdown",
   "metadata": {},
   "source": [
    "## Predict short term movements in stock prices using news and sentiment data provided by RavenPack\n",
    "\n"
   ]
  },
  {
   "cell_type": "markdown",
   "metadata": {},
   "source": [
    "** We have to develop a model that predicts stock price movements using sentiment data provided by RavenPack. Traders, analysts and investors are always looking for techniques to better predict price movements.  Knowing whether a security will increase or decrease allows traders to make better investment decisions and manage risk more effectively.**"
   ]
  },
  {
   "cell_type": "markdown",
   "metadata": {},
   "source": [
    "** Objective **\n",
    "\n",
    "<p>We have to predict the percentage change in a financial instrument at a time 2 hours in the future.  The data represents features of various financial securities (198 in total) recorded at 5-minute intervals throughout a trading day. Features' names or the specific dates are not provided.</p>"
   ]
  },
  {
   "cell_type": "markdown",
   "metadata": {},
   "source": [
    "* Each variable named O1, O2, O3, etc. (the outputs) represents a percent change in the value of a security.  \n",
    "\n",
    "* Each variable named I1, I2, I3, etc. (the inputs) represents a feature. The underlying securities and features represented by these anonymized names are the same across all files (e.g. O1 will always be the same stock).\n",
    "\n",
    "* We are provided the outputs as a relative percentage compared to the previous day's closing price.  The first line of each data file represents the previous close. For example, if a security closed at 1dollar the previous day and opened at 2 dollar the next day, the first output would be 0, then 100.  All output values are computed relative to the previous day's close. The timestamps within each file are as follows (ignoring the header row):\n",
    "\n",
    "* Line 1 = Outputs and inputs at previous day's close (4PM ET)\n",
    "* Line 2 = Outputs and inputs at current day's open (9:30AM ET)\n",
    "* Line 3 = Outputs and inputs at 9:35AM ET\n",
    "* ...\n",
    "* Line 55 = Outputs and inputs at 1:55PM ET\n",
    "\n",
    "> We have to predict the outputs 2 hours later, at 4PM ET."
   ]
  },
  {
   "cell_type": "markdown",
   "metadata": {},
   "source": [
    "## Evaluation\n",
    "\n",
    "Submissions are evaluated by the mean absolute error between the predicted percentage change and the actual percentage change.\n",
    "\n",
    "$$MAE=\\frac{1}{n}\\sum_{i=1}^{n}\\left|{y_i−ŷ_i}\\right|$$\n"
   ]
  },
  {
   "cell_type": "code",
   "execution_count": 182,
   "metadata": {
    "collapsed": false
   },
   "outputs": [],
   "source": [
    "# load in all the dataset\n",
    "files = [(os.path.join(PATH, (str(i) + '.csv'))) for i in range(1, 511)]\n",
    "\n",
    "data_df = pd.concat((pd.read_csv(f) for f in files))"
   ]
  },
  {
   "cell_type": "code",
   "execution_count": 183,
   "metadata": {
    "collapsed": false
   },
   "outputs": [
    {
     "data": {
      "text/html": [
       "<div>\n",
       "<table border=\"1\" class=\"dataframe\">\n",
       "  <thead>\n",
       "    <tr style=\"text-align: right;\">\n",
       "      <th></th>\n",
       "      <th>O1</th>\n",
       "      <th>O2</th>\n",
       "      <th>O3</th>\n",
       "      <th>O4</th>\n",
       "      <th>O5</th>\n",
       "      <th>O6</th>\n",
       "      <th>O7</th>\n",
       "      <th>O8</th>\n",
       "      <th>O9</th>\n",
       "      <th>O10</th>\n",
       "      <th>...</th>\n",
       "      <th>O189</th>\n",
       "      <th>O190</th>\n",
       "      <th>O191</th>\n",
       "      <th>O192</th>\n",
       "      <th>O193</th>\n",
       "      <th>O194</th>\n",
       "      <th>O195</th>\n",
       "      <th>O196</th>\n",
       "      <th>O197</th>\n",
       "      <th>O198</th>\n",
       "    </tr>\n",
       "    <tr>\n",
       "      <th>FileId</th>\n",
       "      <th></th>\n",
       "      <th></th>\n",
       "      <th></th>\n",
       "      <th></th>\n",
       "      <th></th>\n",
       "      <th></th>\n",
       "      <th></th>\n",
       "      <th></th>\n",
       "      <th></th>\n",
       "      <th></th>\n",
       "      <th></th>\n",
       "      <th></th>\n",
       "      <th></th>\n",
       "      <th></th>\n",
       "      <th></th>\n",
       "      <th></th>\n",
       "      <th></th>\n",
       "      <th></th>\n",
       "      <th></th>\n",
       "      <th></th>\n",
       "      <th></th>\n",
       "    </tr>\n",
       "  </thead>\n",
       "  <tbody>\n",
       "    <tr>\n",
       "      <th>1</th>\n",
       "      <td>2.53</td>\n",
       "      <td>1.03</td>\n",
       "      <td>0.12</td>\n",
       "      <td>0.01</td>\n",
       "      <td>0.07</td>\n",
       "      <td>0.88</td>\n",
       "      <td>1.30</td>\n",
       "      <td>1.82</td>\n",
       "      <td>2.13</td>\n",
       "      <td>1.34</td>\n",
       "      <td>...</td>\n",
       "      <td>-0.65</td>\n",
       "      <td>1.58</td>\n",
       "      <td>1.75</td>\n",
       "      <td>-0.10</td>\n",
       "      <td>0.04</td>\n",
       "      <td>0.60</td>\n",
       "      <td>2.04</td>\n",
       "      <td>3.69</td>\n",
       "      <td>3.56</td>\n",
       "      <td>2.03</td>\n",
       "    </tr>\n",
       "    <tr>\n",
       "      <th>2</th>\n",
       "      <td>-4.95</td>\n",
       "      <td>0.18</td>\n",
       "      <td>-0.24</td>\n",
       "      <td>-0.04</td>\n",
       "      <td>-0.49</td>\n",
       "      <td>0.68</td>\n",
       "      <td>0.80</td>\n",
       "      <td>0.64</td>\n",
       "      <td>0.92</td>\n",
       "      <td>0.58</td>\n",
       "      <td>...</td>\n",
       "      <td>0.14</td>\n",
       "      <td>0.64</td>\n",
       "      <td>0.47</td>\n",
       "      <td>0.56</td>\n",
       "      <td>0.47</td>\n",
       "      <td>1.34</td>\n",
       "      <td>1.06</td>\n",
       "      <td>1.22</td>\n",
       "      <td>-0.04</td>\n",
       "      <td>0.38</td>\n",
       "    </tr>\n",
       "    <tr>\n",
       "      <th>3</th>\n",
       "      <td>0.16</td>\n",
       "      <td>0.00</td>\n",
       "      <td>0.20</td>\n",
       "      <td>-0.20</td>\n",
       "      <td>-0.11</td>\n",
       "      <td>0.76</td>\n",
       "      <td>0.88</td>\n",
       "      <td>0.18</td>\n",
       "      <td>0.45</td>\n",
       "      <td>0.26</td>\n",
       "      <td>...</td>\n",
       "      <td>0.33</td>\n",
       "      <td>0.84</td>\n",
       "      <td>1.22</td>\n",
       "      <td>0.25</td>\n",
       "      <td>1.50</td>\n",
       "      <td>0.70</td>\n",
       "      <td>1.79</td>\n",
       "      <td>-0.04</td>\n",
       "      <td>1.30</td>\n",
       "      <td>1.61</td>\n",
       "    </tr>\n",
       "    <tr>\n",
       "      <th>4</th>\n",
       "      <td>4.43</td>\n",
       "      <td>0.06</td>\n",
       "      <td>-0.20</td>\n",
       "      <td>-0.45</td>\n",
       "      <td>-0.62</td>\n",
       "      <td>0.13</td>\n",
       "      <td>4.35</td>\n",
       "      <td>1.47</td>\n",
       "      <td>0.36</td>\n",
       "      <td>2.65</td>\n",
       "      <td>...</td>\n",
       "      <td>-0.27</td>\n",
       "      <td>-0.49</td>\n",
       "      <td>-0.99</td>\n",
       "      <td>0.75</td>\n",
       "      <td>0.30</td>\n",
       "      <td>0.47</td>\n",
       "      <td>-0.02</td>\n",
       "      <td>-0.79</td>\n",
       "      <td>-0.43</td>\n",
       "      <td>-0.53</td>\n",
       "    </tr>\n",
       "    <tr>\n",
       "      <th>5</th>\n",
       "      <td>0.76</td>\n",
       "      <td>0.11</td>\n",
       "      <td>0.12</td>\n",
       "      <td>0.08</td>\n",
       "      <td>-0.25</td>\n",
       "      <td>0.12</td>\n",
       "      <td>-0.44</td>\n",
       "      <td>0.60</td>\n",
       "      <td>0.11</td>\n",
       "      <td>0.10</td>\n",
       "      <td>...</td>\n",
       "      <td>0.20</td>\n",
       "      <td>0.48</td>\n",
       "      <td>0.24</td>\n",
       "      <td>-0.11</td>\n",
       "      <td>0.08</td>\n",
       "      <td>0.40</td>\n",
       "      <td>-0.51</td>\n",
       "      <td>1.85</td>\n",
       "      <td>-0.53</td>\n",
       "      <td>-0.57</td>\n",
       "    </tr>\n",
       "  </tbody>\n",
       "</table>\n",
       "<p>5 rows × 198 columns</p>\n",
       "</div>"
      ],
      "text/plain": [
       "          O1    O2    O3    O4    O5    O6    O7    O8    O9   O10  ...   \\\n",
       "FileId                                                              ...    \n",
       "1       2.53  1.03  0.12  0.01  0.07  0.88  1.30  1.82  2.13  1.34  ...    \n",
       "2      -4.95  0.18 -0.24 -0.04 -0.49  0.68  0.80  0.64  0.92  0.58  ...    \n",
       "3       0.16  0.00  0.20 -0.20 -0.11  0.76  0.88  0.18  0.45  0.26  ...    \n",
       "4       4.43  0.06 -0.20 -0.45 -0.62  0.13  4.35  1.47  0.36  2.65  ...    \n",
       "5       0.76  0.11  0.12  0.08 -0.25  0.12 -0.44  0.60  0.11  0.10  ...    \n",
       "\n",
       "        O189  O190  O191  O192  O193  O194  O195  O196  O197  O198  \n",
       "FileId                                                              \n",
       "1      -0.65  1.58  1.75 -0.10  0.04  0.60  2.04  3.69  3.56  2.03  \n",
       "2       0.14  0.64  0.47  0.56  0.47  1.34  1.06  1.22 -0.04  0.38  \n",
       "3       0.33  0.84  1.22  0.25  1.50  0.70  1.79 -0.04  1.30  1.61  \n",
       "4      -0.27 -0.49 -0.99  0.75  0.30  0.47 -0.02 -0.79 -0.43 -0.53  \n",
       "5       0.20  0.48  0.24 -0.11  0.08  0.40 -0.51  1.85 -0.53 -0.57  \n",
       "\n",
       "[5 rows x 198 columns]"
      ]
     },
     "execution_count": 183,
     "metadata": {},
     "output_type": "execute_result"
    }
   ],
   "source": [
    "# load target labels\n",
    "target = pd.read_csv('../data/trainLabels.csv', index_col='FileId'); target.head()"
   ]
  },
  {
   "cell_type": "code",
   "execution_count": 184,
   "metadata": {
    "collapsed": true
   },
   "outputs": [],
   "source": [
    "# load the submission file\n",
    "sub = pd.read_csv('../data/sampleSubmission.csv')"
   ]
  },
  {
   "cell_type": "code",
   "execution_count": 185,
   "metadata": {
    "collapsed": true
   },
   "outputs": [],
   "source": [
    "# first 200 days are training examples and rest 310 days should be used for training\n",
    "# 200 * 55 = 11,000 examples will be included in training examples and rest would go in the test set\n",
    "\n",
    "train = data_df.iloc[:11000]\n",
    "test = data_df.iloc[11000:]"
   ]
  },
  {
   "cell_type": "code",
   "execution_count": 186,
   "metadata": {
    "collapsed": false
   },
   "outputs": [],
   "source": [
    "assert train.shape[0] == 11000\n",
    "assert test.shape[0] == 17050"
   ]
  },
  {
   "cell_type": "code",
   "execution_count": 187,
   "metadata": {
    "collapsed": false
   },
   "outputs": [
    {
     "data": {
      "text/html": [
       "<div>\n",
       "<table border=\"1\" class=\"dataframe\">\n",
       "  <thead>\n",
       "    <tr style=\"text-align: right;\">\n",
       "      <th></th>\n",
       "      <th>O1</th>\n",
       "      <th>O2</th>\n",
       "      <th>O3</th>\n",
       "      <th>O4</th>\n",
       "      <th>O5</th>\n",
       "      <th>O6</th>\n",
       "      <th>O7</th>\n",
       "      <th>O8</th>\n",
       "      <th>O9</th>\n",
       "      <th>O10</th>\n",
       "      <th>...</th>\n",
       "      <th>I235</th>\n",
       "      <th>I236</th>\n",
       "      <th>I237</th>\n",
       "      <th>I238</th>\n",
       "      <th>I239</th>\n",
       "      <th>I240</th>\n",
       "      <th>I241</th>\n",
       "      <th>I242</th>\n",
       "      <th>I243</th>\n",
       "      <th>I244</th>\n",
       "    </tr>\n",
       "  </thead>\n",
       "  <tbody>\n",
       "    <tr>\n",
       "      <th>0</th>\n",
       "      <td>0.00</td>\n",
       "      <td>0.00</td>\n",
       "      <td>0.00</td>\n",
       "      <td>0.00</td>\n",
       "      <td>0.00</td>\n",
       "      <td>0.00</td>\n",
       "      <td>0.00</td>\n",
       "      <td>0.00</td>\n",
       "      <td>0.00</td>\n",
       "      <td>0.00</td>\n",
       "      <td>...</td>\n",
       "      <td>0.268207</td>\n",
       "      <td>0.523644</td>\n",
       "      <td>0.135028</td>\n",
       "      <td>0.226693</td>\n",
       "      <td>0.101070</td>\n",
       "      <td>0.094971</td>\n",
       "      <td>0.050332</td>\n",
       "      <td>0.299584</td>\n",
       "      <td>0.038816</td>\n",
       "      <td>0.081309</td>\n",
       "    </tr>\n",
       "    <tr>\n",
       "      <th>1</th>\n",
       "      <td>0.97</td>\n",
       "      <td>0.45</td>\n",
       "      <td>0.16</td>\n",
       "      <td>-0.04</td>\n",
       "      <td>0.21</td>\n",
       "      <td>0.29</td>\n",
       "      <td>0.61</td>\n",
       "      <td>0.79</td>\n",
       "      <td>0.90</td>\n",
       "      <td>-0.04</td>\n",
       "      <td>...</td>\n",
       "      <td>0.785809</td>\n",
       "      <td>1.033014</td>\n",
       "      <td>1.006048</td>\n",
       "      <td>1.132957</td>\n",
       "      <td>0.183963</td>\n",
       "      <td>0.144079</td>\n",
       "      <td>0.355715</td>\n",
       "      <td>0.314446</td>\n",
       "      <td>0.251952</td>\n",
       "      <td>0.206263</td>\n",
       "    </tr>\n",
       "    <tr>\n",
       "      <th>2</th>\n",
       "      <td>1.69</td>\n",
       "      <td>0.51</td>\n",
       "      <td>0.00</td>\n",
       "      <td>-0.04</td>\n",
       "      <td>0.31</td>\n",
       "      <td>0.30</td>\n",
       "      <td>0.67</td>\n",
       "      <td>0.81</td>\n",
       "      <td>0.96</td>\n",
       "      <td>0.18</td>\n",
       "      <td>...</td>\n",
       "      <td>0.745939</td>\n",
       "      <td>1.362954</td>\n",
       "      <td>0.945924</td>\n",
       "      <td>1.086542</td>\n",
       "      <td>0.366259</td>\n",
       "      <td>0.267723</td>\n",
       "      <td>0.630238</td>\n",
       "      <td>0.357783</td>\n",
       "      <td>0.510176</td>\n",
       "      <td>0.429069</td>\n",
       "    </tr>\n",
       "    <tr>\n",
       "      <th>3</th>\n",
       "      <td>1.71</td>\n",
       "      <td>0.64</td>\n",
       "      <td>0.00</td>\n",
       "      <td>-0.06</td>\n",
       "      <td>0.38</td>\n",
       "      <td>0.31</td>\n",
       "      <td>0.64</td>\n",
       "      <td>0.84</td>\n",
       "      <td>1.01</td>\n",
       "      <td>0.22</td>\n",
       "      <td>...</td>\n",
       "      <td>0.603695</td>\n",
       "      <td>1.209274</td>\n",
       "      <td>0.771079</td>\n",
       "      <td>0.880964</td>\n",
       "      <td>0.451086</td>\n",
       "      <td>0.333353</td>\n",
       "      <td>0.321455</td>\n",
       "      <td>0.388896</td>\n",
       "      <td>0.574862</td>\n",
       "      <td>0.511859</td>\n",
       "    </tr>\n",
       "    <tr>\n",
       "      <th>4</th>\n",
       "      <td>1.65</td>\n",
       "      <td>0.51</td>\n",
       "      <td>0.00</td>\n",
       "      <td>-0.06</td>\n",
       "      <td>0.41</td>\n",
       "      <td>0.25</td>\n",
       "      <td>0.58</td>\n",
       "      <td>0.81</td>\n",
       "      <td>0.99</td>\n",
       "      <td>0.18</td>\n",
       "      <td>...</td>\n",
       "      <td>0.466887</td>\n",
       "      <td>1.173604</td>\n",
       "      <td>0.706337</td>\n",
       "      <td>0.808645</td>\n",
       "      <td>0.514879</td>\n",
       "      <td>0.385068</td>\n",
       "      <td>0.050332</td>\n",
       "      <td>0.410417</td>\n",
       "      <td>0.569456</td>\n",
       "      <td>0.565194</td>\n",
       "    </tr>\n",
       "  </tbody>\n",
       "</table>\n",
       "<p>5 rows × 442 columns</p>\n",
       "</div>"
      ],
      "text/plain": [
       "     O1    O2    O3    O4    O5    O6    O7    O8    O9   O10    ...     \\\n",
       "0  0.00  0.00  0.00  0.00  0.00  0.00  0.00  0.00  0.00  0.00    ...      \n",
       "1  0.97  0.45  0.16 -0.04  0.21  0.29  0.61  0.79  0.90 -0.04    ...      \n",
       "2  1.69  0.51  0.00 -0.04  0.31  0.30  0.67  0.81  0.96  0.18    ...      \n",
       "3  1.71  0.64  0.00 -0.06  0.38  0.31  0.64  0.84  1.01  0.22    ...      \n",
       "4  1.65  0.51  0.00 -0.06  0.41  0.25  0.58  0.81  0.99  0.18    ...      \n",
       "\n",
       "       I235      I236      I237      I238      I239      I240      I241  \\\n",
       "0  0.268207  0.523644  0.135028  0.226693  0.101070  0.094971  0.050332   \n",
       "1  0.785809  1.033014  1.006048  1.132957  0.183963  0.144079  0.355715   \n",
       "2  0.745939  1.362954  0.945924  1.086542  0.366259  0.267723  0.630238   \n",
       "3  0.603695  1.209274  0.771079  0.880964  0.451086  0.333353  0.321455   \n",
       "4  0.466887  1.173604  0.706337  0.808645  0.514879  0.385068  0.050332   \n",
       "\n",
       "       I242      I243      I244  \n",
       "0  0.299584  0.038816  0.081309  \n",
       "1  0.314446  0.251952  0.206263  \n",
       "2  0.357783  0.510176  0.429069  \n",
       "3  0.388896  0.574862  0.511859  \n",
       "4  0.410417  0.569456  0.565194  \n",
       "\n",
       "[5 rows x 442 columns]"
      ]
     },
     "execution_count": 187,
     "metadata": {},
     "output_type": "execute_result"
    }
   ],
   "source": [
    "train.head()"
   ]
  },
  {
   "cell_type": "markdown",
   "metadata": {},
   "source": [
    "## Approach : 1\n",
    "\n",
    "** Take last observed 20 samples for each security on each day, take their mean and submit that value as the prediction after 2 hours **"
   ]
  },
  {
   "cell_type": "markdown",
   "metadata": {},
   "source": [
    "** Error Metric is Mean Absolute Error **"
   ]
  },
  {
   "cell_type": "code",
   "execution_count": 188,
   "metadata": {
    "collapsed": true
   },
   "outputs": [],
   "source": [
    "def mae(y_true, y_pred):\n",
    "    return (abs(y_true - y_pred)).mean(axis=1).mean()"
   ]
  },
  {
   "cell_type": "code",
   "execution_count": 189,
   "metadata": {
    "collapsed": false
   },
   "outputs": [],
   "source": [
    "def get_predictions(df, n=20):\n",
    "    start_index = 0\n",
    "    num_entries = 55\n",
    "    preds = []\n",
    "    \n",
    "    for i in range(1, ((len(df) // 55) + 1)):\n",
    "        end_index = i * num_entries\n",
    "        day_activity  = df.iloc[start_index:end_index, 0:198]\n",
    "        start_index = end_index\n",
    "        \n",
    "        pred_for_day = day_activity.iloc[-n:].mean()\n",
    "        preds.append(pred_for_day)\n",
    "    \n",
    "    return np.array(preds)"
   ]
  },
  {
   "cell_type": "code",
   "execution_count": 190,
   "metadata": {
    "collapsed": false
   },
   "outputs": [],
   "source": [
    "y_preds = get_predictions(train, 1)"
   ]
  },
  {
   "cell_type": "code",
   "execution_count": 192,
   "metadata": {
    "collapsed": false
   },
   "outputs": [],
   "source": [
    "def score_by_n(train, target):\n",
    "    n_range = np.arange(1, 21)\n",
    "    errors = []\n",
    "    \n",
    "    for n in n_range:\n",
    "        preds = get_predictions(train, n)\n",
    "        errors.append(mae(target, preds))\n",
    "    \n",
    "    return n_range, np.array(errors)"
   ]
  },
  {
   "cell_type": "code",
   "execution_count": 193,
   "metadata": {
    "collapsed": false
   },
   "outputs": [],
   "source": [
    "n_range, errors = score_by_n(train, target)"
   ]
  },
  {
   "cell_type": "code",
   "execution_count": 194,
   "metadata": {
    "collapsed": false
   },
   "outputs": [
    {
     "data": {
      "image/png": "[encoded data removed]",
      "text/plain": [
       "<matplotlib.figure.Figure at 0x11819fa10>"
      ]
     },
     "metadata": {},
     "output_type": "display_data"
    }
   ],
   "source": [
    "plt.scatter(n_range, errors, alpha=0.3)\n",
    "plt.xlabel('Number of last observed values')\n",
    "plt.ylabel('Mean absolute error');"
   ]
  },
  {
   "cell_type": "code",
   "execution_count": 196,
   "metadata": {
    "collapsed": false
   },
   "outputs": [
    {
     "name": "stdout",
     "output_type": "stream",
     "text": [
      "For n=3 we have minimum MAE 0.439200315657\n"
     ]
    }
   ],
   "source": [
    "min_n = n_range[np.argmin(errors)]\n",
    "print 'For n={0} we have minimum MAE {1}'.format(min_n, errors[min_n])"
   ]
  },
  {
   "cell_type": "code",
   "execution_count": 197,
   "metadata": {
    "collapsed": true
   },
   "outputs": [],
   "source": [
    "## Score 1.83.. on the leaderboard\n",
    "preds = get_predictions(test, 1)\n",
    "sub.iloc[:,1:199] = preds\n",
    "sub.to_csv('../submissions/last_observation_mean.csv', index=False)"
   ]
  },
  {
   "cell_type": "code",
   "execution_count": 198,
   "metadata": {
    "collapsed": false
   },
   "outputs": [],
   "source": [
    "preds = get_predictions(test, 2)\n",
    "sub.iloc[:,1:199] = preds\n",
    "sub.to_csv('../submissions/last_2_observations_mean.csv', index=False)"
   ]
  },
  {
   "cell_type": "markdown",
   "metadata": {},
   "source": [
    "## Approach: 2\n",
    "\n",
    "A random walk is a mathematical formalization of a path that consists of a succession of random steps. For example, the path traced by a molecule as it travels in a liquid or a gas, the search path of a foraging animal, the price of a fluctuating stock and the financial status of a gambler can all be modeled as random walks, although they may not be truly random in reality.  ** Source: <a href=\"https://en.wikipedia.org/wiki/Random_walk\">Wikipedia</a> **"
   ]
  },
  {
   "cell_type": "code",
   "execution_count": 199,
   "metadata": {
    "collapsed": true
   },
   "outputs": [],
   "source": [
    "def random_walk(df, n=20):\n",
    "    start_index = 0\n",
    "    num_entries = 55\n",
    "    preds = []\n",
    "    \n",
    "    for i in range(1, ((len(df) // 55) + 1)):\n",
    "        end_index = i * num_entries\n",
    "        \n",
    "        day_activity  = df.iloc[start_index:end_index, 0:198]\n",
    "        start_index = end_index\n",
    "        \n",
    "        pred = np.zeros(day_activity.shape[1])\n",
    "        \n",
    "        current_index = 55 // 2\n",
    "        \n",
    "        for j in range(0, n):\n",
    "            coin_flip = np.random.rand()\n",
    "            \n",
    "            if coin_flip < 0.5:\n",
    "                current_index -= 1\n",
    "                pred = pred + day_activity.iloc[current_index] \n",
    "            else:\n",
    "                current_index += 1\n",
    "                pred = pred + day_activity.iloc[current_index]\n",
    "        \n",
    "        pred = pred / n\n",
    "        preds.append(pred)\n",
    "    \n",
    "    return np.array(preds)"
   ]
  },
  {
   "cell_type": "code",
   "execution_count": 200,
   "metadata": {
    "collapsed": false
   },
   "outputs": [],
   "source": [
    "y_preds = random_walk(train, 20)"
   ]
  },
  {
   "cell_type": "code",
   "execution_count": 203,
   "metadata": {
    "collapsed": false
   },
   "outputs": [
    {
     "name": "stdout",
     "output_type": "stream",
     "text": [
      "MAE 0.614488 \n"
     ]
    }
   ],
   "source": [
    "print 'MAE %f '%(mae(target, y_preds)) "
   ]
  },
  {
   "cell_type": "code",
   "execution_count": 201,
   "metadata": {
    "collapsed": false
   },
   "outputs": [],
   "source": [
    "def score_by_steps(train, target):\n",
    "    n_range = np.arange(15, 31)\n",
    "    errors = []\n",
    "    \n",
    "    for n in n_range:\n",
    "        preds = random_walk(train, n)\n",
    "        errors.append(mae(target, preds))\n",
    "    \n",
    "    return n_range, np.array(errors)"
   ]
  },
  {
   "cell_type": "code",
   "execution_count": 202,
   "metadata": {
    "collapsed": false
   },
   "outputs": [],
   "source": [
    "n_range, errors = score_by_steps(train, target)"
   ]
  },
  {
   "cell_type": "code",
   "execution_count": 204,
   "metadata": {
    "collapsed": false
   },
   "outputs": [
    {
     "data": {
      "image/png": "[encoded data removed]",
      "text/plain": [
       "<matplotlib.figure.Figure at 0x117c19550>"
      ]
     },
     "metadata": {},
     "output_type": "display_data"
    }
   ],
   "source": [
    "plt.scatter(n_range, errors, alpha=0.5)\n",
    "plt.xlabel('Number of steps')\n",
    "plt.ylabel('Mean Absolute Error');"
   ]
  },
  {
   "cell_type": "markdown",
   "metadata": {},
   "source": [
    "## Approach: Random Gaussian Walk"
   ]
  },
  {
   "cell_type": "code",
   "execution_count": 238,
   "metadata": {
    "collapsed": true
   },
   "outputs": [],
   "source": [
    "def random_gaussian_walk(df, n=20, mean=1, std=0.1):\n",
    "    start_index = 0\n",
    "    num_entries = 55\n",
    "    preds = []\n",
    "    \n",
    "    for i in range(1, ((len(df) // 55) + 1)):\n",
    "        end_index = i * num_entries\n",
    "        \n",
    "        day_activity  = df.iloc[start_index:end_index, 0:198]\n",
    "        start_index = end_index\n",
    "        \n",
    "        pred = np.zeros(day_activity.shape[1])\n",
    "        \n",
    "        for j in range(0, n):\n",
    "            quantile = int(stats.norm.ppf(np.random.rand(), 1, std))\n",
    "            pred = pred + day_activity.iloc[54-quantile] \n",
    "            \n",
    "        pred = pred / n\n",
    "        preds.append(pred)\n",
    "    \n",
    "    return np.array(preds)"
   ]
  },
  {
   "cell_type": "code",
   "execution_count": 239,
   "metadata": {
    "collapsed": false
   },
   "outputs": [
    {
     "name": "stdout",
     "output_type": "stream",
     "text": [
      "MAE 0.438509 \n"
     ]
    }
   ],
   "source": [
    "predsTrain = random_gaussian_walk(train, 20)\n",
    "print 'MAE %f '%(mae(target, predsTrain))"
   ]
  },
  {
   "cell_type": "code",
   "execution_count": 240,
   "metadata": {
    "collapsed": true
   },
   "outputs": [],
   "source": [
    "def score_by_iterations(train, target):\n",
    "    n_range = np.arange(15, 40)\n",
    "    errors = []\n",
    "    \n",
    "    for n in n_range:\n",
    "        preds = random_gaussian_walk(train, n)\n",
    "        errors.append(mae(target, preds))\n",
    "    \n",
    "    return n_range, np.array(errors)"
   ]
  },
  {
   "cell_type": "code",
   "execution_count": 241,
   "metadata": {
    "collapsed": false
   },
   "outputs": [
    {
     "data": {
      "image/png": "[encoded data removed]",
      "text/plain": [
       "<matplotlib.figure.Figure at 0x11d28a610>"
      ]
     },
     "metadata": {},
     "output_type": "display_data"
    }
   ],
   "source": [
    "n_range, errors = score_by_iterations(train, target)\n",
    "plt.scatter(n_range, errors)\n",
    "plt.xlabel('Number of iterations')\n",
    "plt.ylabel('Mean Absolute Error');"
   ]
  },
  {
   "cell_type": "code",
   "execution_count": 242,
   "metadata": {
    "collapsed": false
   },
   "outputs": [
    {
     "name": "stdout",
     "output_type": "stream",
     "text": [
      "Number of iterations 22 for which we have mininum MAE 0.438411134068 \n"
     ]
    }
   ],
   "source": [
    "print 'Number of iterations {0} for which we have mininum MAE {1} '.format(n_range[np.argmin(errors)], errors.min())"
   ]
  },
  {
   "cell_type": "code",
   "execution_count": 243,
   "metadata": {
    "collapsed": true
   },
   "outputs": [],
   "source": [
    "preds = random_gaussian_walk(test, 22)\n",
    "sub.iloc[:, 1:199] = preds\n",
    "sub.to_csv('../submissions/random_gaussian_walk.csv', index=False)"
   ]
  },
  {
   "cell_type": "code",
   "execution_count": null,
   "metadata": {
    "collapsed": true
   },
   "outputs": [],
   "source": []
  }
 ],
 "metadata": {
  "kernelspec": {
   "display_name": "Python 2",
   "language": "python",
   "name": "python2"
  },
  "language_info": {
   "codemirror_mode": {
    "name": "ipython",
    "version": 2
   },
   "file_extension": ".py",
   "mimetype": "text/x-python",
   "name": "python",
   "nbconvert_exporter": "python",
   "pygments_lexer": "ipython2",
   "version": "2.7.11"
  }
 },
 "nbformat": 4,
 "nbformat_minor": 0
}
