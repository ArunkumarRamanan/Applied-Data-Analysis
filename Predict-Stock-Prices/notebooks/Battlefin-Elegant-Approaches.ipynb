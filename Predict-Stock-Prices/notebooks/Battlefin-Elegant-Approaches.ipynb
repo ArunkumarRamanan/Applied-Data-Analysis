{
 "cells": [
  {
   "cell_type": "markdown",
   "metadata": {},
   "source": [
    "## Approach by (Sergey Yurgenson):\n",
    "\n",
    "* Pepare a naive submission based on last observed value.\n",
    "* Assign target variable to be difference between actual value of security at 5:00 P.M and last observed value.\n",
    "* Only include those securities which are actually predictive in nature.\n",
    "* Make sure first value for each of the days is 0.0\n",
    "* If the change in the value of security to be greater than 40% consider it as data error and divide by 100.\n",
    "* Postprocessing: If there is no change in the value of security for more than 30 minutes then use that as prediction."
   ]
  },
  {
   "cell_type": "code",
   "execution_count": 4,
   "metadata": {
    "collapsed": true
   },
   "outputs": [],
   "source": [
    "import pandas as pd\n",
    "import numpy as np\n",
    "import os\n",
    "\n",
    "from __future__ import division\n",
    "\n",
    "PATH = '../data/data/'"
   ]
  },
  {
   "cell_type": "code",
   "execution_count": 5,
   "metadata": {
    "collapsed": false
   },
   "outputs": [],
   "source": [
    "# load in all the dataset\n",
    "files = [(os.path.join(PATH, (str(i) + '.csv'))) for i in range(1, 511)]\n",
    "\n",
    "data_df = pd.concat((pd.read_csv(f) for f in files))"
   ]
  },
  {
   "cell_type": "code",
   "execution_count": null,
   "metadata": {
    "collapsed": true
   },
   "outputs": [],
   "source": [
    "# load target labels\n",
    "target = pd.read_csv('../data/trainLabels.csv', index_col='FileId'); target.head()"
   ]
  }
 ],
 "metadata": {
  "kernelspec": {
   "display_name": "Python 2",
   "language": "python",
   "name": "python2"
  },
  "language_info": {
   "codemirror_mode": {
    "name": "ipython",
    "version": 2
   },
   "file_extension": ".py",
   "mimetype": "text/x-python",
   "name": "python",
   "nbconvert_exporter": "python",
   "pygments_lexer": "ipython2",
   "version": "2.7.11"
  }
 },
 "nbformat": 4,
 "nbformat_minor": 0
}
