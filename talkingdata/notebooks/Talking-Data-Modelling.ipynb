{
 "cells": [
  {
   "cell_type": "code",
   "execution_count": 34,
   "metadata": {
    "collapsed": false
   },
   "outputs": [],
   "source": [
    "%matplotlib inline\n",
    "\n",
    "import numpy as np\n",
    "import pandas as pd\n",
    "import scipy as sp\n",
    "\n",
    "from sklearn.preprocessing import LabelEncoder\n",
    "from sklearn.tree import DecisionTreeClassifier\n",
    "from sklearn.ensemble import RandomForestClassifier\n",
    "from sklearn.cross_validation import train_test_split, cross_val_score, StratifiedKFold\n",
    "from sklearn.grid_search import GridSearchCV\n",
    "from sklearn.metrics import log_loss\n",
    "\n",
    "import matplotlib.pyplot as plt\n",
    "import seaborn as sns\n",
    "\n",
    "import warnings\n",
    "warnings.filterwarnings('ignore')\n",
    "\n",
    "np.random.seed(44)"
   ]
  },
  {
   "cell_type": "code",
   "execution_count": 2,
   "metadata": {
    "collapsed": true
   },
   "outputs": [],
   "source": [
    "# load files\n",
    "train = pd.read_csv('../processed/train_processed.csv')\n",
    "test = pd.read_csv('../processed/test_processed.csv')"
   ]
  },
  {
   "cell_type": "code",
   "execution_count": 4,
   "metadata": {
    "collapsed": false
   },
   "outputs": [],
   "source": [
    "lbl = LabelEncoder()\n",
    "\n",
    "lbl.fit(train.group)\n",
    "train['group'] = lbl.transform(train.group)\n",
    "\n",
    "lbl.fit(pd.concat([train.device_model, test.device_model], axis=0))\n",
    "train['device_model'] = lbl.transform(train.device_model)\n",
    "test['device_model'] = lbl.transform(test.device_model)"
   ]
  },
  {
   "cell_type": "code",
   "execution_count": 6,
   "metadata": {
    "collapsed": false
   },
   "outputs": [],
   "source": [
    "features = train.columns.drop('group')\n",
    "\n",
    "X =  train[features]\n",
    "y = train.group"
   ]
  },
  {
   "cell_type": "markdown",
   "metadata": {},
   "source": [
    "## Split into training and test set"
   ]
  },
  {
   "cell_type": "code",
   "execution_count": 8,
   "metadata": {
    "collapsed": false
   },
   "outputs": [],
   "source": [
    "X_train, X_test, y_train, y_test = train_test_split(X, y, stratify=y, test_size=0.25, random_state=0)"
   ]
  },
  {
   "cell_type": "code",
   "execution_count": 9,
   "metadata": {
    "collapsed": false
   },
   "outputs": [
    {
     "name": "stdout",
     "output_type": "stream",
     "text": [
      "(55983, 136) (18662, 136) (55983L,) (18662L,)\n"
     ]
    }
   ],
   "source": [
    "print X_train.shape, X_test.shape, y_train.shape, y_test.shape"
   ]
  },
  {
   "cell_type": "code",
   "execution_count": 10,
   "metadata": {
    "collapsed": false
   },
   "outputs": [
    {
     "data": {
      "text/plain": [
       "Index([u'device_id', u'device_model', u'E人E本', u'E派', u'HTC', u'LG', u'LOGO',\n",
       "       u'Lovme', u'MIL', u'OPPO',\n",
       "       ...\n",
       "       u'青葱', u'飞利浦', u'飞秒', u'首云', u'魅族', u'鲜米', u'黑米', u'count_device_model',\n",
       "       u'count_events', u'log_count_events'],\n",
       "      dtype='object', length=136)"
      ]
     },
     "execution_count": 10,
     "metadata": {},
     "output_type": "execute_result"
    }
   ],
   "source": [
    "X_train.columns"
   ]
  },
  {
   "cell_type": "markdown",
   "metadata": {},
   "source": [
    "## Train the model"
   ]
  },
  {
   "cell_type": "code",
   "execution_count": 33,
   "metadata": {
    "collapsed": false
   },
   "outputs": [
    {
     "name": "stdout",
     "output_type": "stream",
     "text": [
      "Log Loss on the training set 2.358141 \n",
      "Log Loss on the test set 2.398738 \n"
     ]
    }
   ],
   "source": [
    "# tree = DecisionTreeClassifier(max_depth=4)\n",
    "# tree.fit(X_train, y_train)\n",
    "\n",
    "tree = RandomForestClassifier(n_estimators=100, max_depth=8, criterion='entropy', max_features='sqrt', n_jobs=-1)\n",
    "tree.fit(X_train, y_train)\n",
    "\n",
    "print 'Log Loss on the training set %f ' %(log_loss(y_train, tree.predict_proba(X_train)))\n",
    "print 'Log Loss on the test set %f ' %(log_loss(y_test, tree.predict_proba(X_test)))"
   ]
  },
  {
   "cell_type": "markdown",
   "metadata": {},
   "source": [
    "### Tuning Parameters"
   ]
  },
  {
   "cell_type": "code",
   "execution_count": 35,
   "metadata": {
    "collapsed": false
   },
   "outputs": [
    {
     "data": {
      "text/plain": [
       "GridSearchCV(cv=sklearn.cross_validation.StratifiedKFold(labels=[ 9  7 ..., 11 10], n_folds=3, shuffle=False, random_state=1),\n",
       "       error_score='raise',\n",
       "       estimator=RandomForestClassifier(bootstrap=True, class_weight=None, criterion='gini',\n",
       "            max_depth=None, max_features='auto', max_leaf_nodes=None,\n",
       "            min_samples_leaf=1, min_samples_split=2,\n",
       "            min_weight_fraction_leaf=0.0, n_estimators=10, n_jobs=-1,\n",
       "            oob_score=False, random_state=None, verbose=0,\n",
       "            warm_start=False),\n",
       "       fit_params={}, iid=True, n_jobs=1,\n",
       "       param_grid={'n_estimators': [10, 50, 100], 'max_features': ['auto', 'sqrt', 'log2'], 'max_depth': [5, 10, 15], 'min_samples_leaf': [1, 3, 5]},\n",
       "       pre_dispatch='2*n_jobs', refit=True, scoring='log_loss', verbose=0)"
      ]
     },
     "execution_count": 35,
     "metadata": {},
     "output_type": "execute_result"
    }
   ],
   "source": [
    "tuned_parameters = {\n",
    "        'n_estimators': [10, 50, 100],\n",
    "        'max_depth': [5, 10, 15],\n",
    "        'min_samples_leaf': [1, 3, 5],\n",
    "        'max_features': ['auto', 'sqrt', 'log2']\n",
    "    }\n",
    "\n",
    "skf = StratifiedKFold(y=y_train, random_state=1)\n",
    "clf = GridSearchCV(estimator=RandomForestClassifier(n_jobs=-1), param_grid=tuned_parameters, cv=skf, scoring='log_loss')\n",
    "clf.fit(X_train, y_train)"
   ]
  },
  {
   "cell_type": "code",
   "execution_count": 36,
   "metadata": {
    "collapsed": false
   },
   "outputs": [
    {
     "name": "stdout",
     "output_type": "stream",
     "text": [
      "[mean: -2.40871, std: 0.00042, params: {'max_features': 'auto', 'n_estimators': 10, 'max_depth': 5, 'min_samples_leaf': 1}, mean: -2.40757, std: 0.00061, params: {'max_features': 'auto', 'n_estimators': 50, 'max_depth': 5, 'min_samples_leaf': 1}, mean: -2.40801, std: 0.00046, params: {'max_features': 'auto', 'n_estimators': 100, 'max_depth': 5, 'min_samples_leaf': 1}, mean: -2.40744, std: 0.00194, params: {'max_features': 'auto', 'n_estimators': 10, 'max_depth': 5, 'min_samples_leaf': 3}, mean: -2.40788, std: 0.00047, params: {'max_features': 'auto', 'n_estimators': 50, 'max_depth': 5, 'min_samples_leaf': 3}, mean: -2.40734, std: 0.00025, params: {'max_features': 'auto', 'n_estimators': 100, 'max_depth': 5, 'min_samples_leaf': 3}, mean: -2.41019, std: 0.00138, params: {'max_features': 'auto', 'n_estimators': 10, 'max_depth': 5, 'min_samples_leaf': 5}, mean: -2.40764, std: 0.00053, params: {'max_features': 'auto', 'n_estimators': 50, 'max_depth': 5, 'min_samples_leaf': 5}, mean: -2.40733, std: 0.00045, params: {'max_features': 'auto', 'n_estimators': 100, 'max_depth': 5, 'min_samples_leaf': 5}, mean: -2.40941, std: 0.00147, params: {'max_features': 'sqrt', 'n_estimators': 10, 'max_depth': 5, 'min_samples_leaf': 1}, mean: -2.40767, std: 0.00074, params: {'max_features': 'sqrt', 'n_estimators': 50, 'max_depth': 5, 'min_samples_leaf': 1}, mean: -2.40737, std: 0.00054, params: {'max_features': 'sqrt', 'n_estimators': 100, 'max_depth': 5, 'min_samples_leaf': 1}, mean: -2.40856, std: 0.00025, params: {'max_features': 'sqrt', 'n_estimators': 10, 'max_depth': 5, 'min_samples_leaf': 3}, mean: -2.40762, std: 0.00049, params: {'max_features': 'sqrt', 'n_estimators': 50, 'max_depth': 5, 'min_samples_leaf': 3}, mean: -2.40793, std: 0.00053, params: {'max_features': 'sqrt', 'n_estimators': 100, 'max_depth': 5, 'min_samples_leaf': 3}, mean: -2.40812, std: 0.00223, params: {'max_features': 'sqrt', 'n_estimators': 10, 'max_depth': 5, 'min_samples_leaf': 5}, mean: -2.40791, std: 0.00078, params: {'max_features': 'sqrt', 'n_estimators': 50, 'max_depth': 5, 'min_samples_leaf': 5}, mean: -2.40777, std: 0.00066, params: {'max_features': 'sqrt', 'n_estimators': 100, 'max_depth': 5, 'min_samples_leaf': 5}, mean: -2.41407, std: 0.00153, params: {'max_features': 'log2', 'n_estimators': 10, 'max_depth': 5, 'min_samples_leaf': 1}, mean: -2.41114, std: 0.00094, params: {'max_features': 'log2', 'n_estimators': 50, 'max_depth': 5, 'min_samples_leaf': 1}, mean: -2.41098, std: 0.00064, params: {'max_features': 'log2', 'n_estimators': 100, 'max_depth': 5, 'min_samples_leaf': 1}, mean: -2.41213, std: 0.00041, params: {'max_features': 'log2', 'n_estimators': 10, 'max_depth': 5, 'min_samples_leaf': 3}, mean: -2.41129, std: 0.00129, params: {'max_features': 'log2', 'n_estimators': 50, 'max_depth': 5, 'min_samples_leaf': 3}, mean: -2.41120, std: 0.00050, params: {'max_features': 'log2', 'n_estimators': 100, 'max_depth': 5, 'min_samples_leaf': 3}, mean: -2.41375, std: 0.00223, params: {'max_features': 'log2', 'n_estimators': 10, 'max_depth': 5, 'min_samples_leaf': 5}, mean: -2.41217, std: 0.00057, params: {'max_features': 'log2', 'n_estimators': 50, 'max_depth': 5, 'min_samples_leaf': 5}, mean: -2.41187, std: 0.00019, params: {'max_features': 'log2', 'n_estimators': 100, 'max_depth': 5, 'min_samples_leaf': 5}, mean: -2.40523, std: 0.00099, params: {'max_features': 'auto', 'n_estimators': 10, 'max_depth': 10, 'min_samples_leaf': 1}, mean: -2.39881, std: 0.00125, params: {'max_features': 'auto', 'n_estimators': 50, 'max_depth': 10, 'min_samples_leaf': 1}, mean: -2.39758, std: 0.00049, params: {'max_features': 'auto', 'n_estimators': 100, 'max_depth': 10, 'min_samples_leaf': 1}, mean: -2.40404, std: 0.00156, params: {'max_features': 'auto', 'n_estimators': 10, 'max_depth': 10, 'min_samples_leaf': 3}, mean: -2.39899, std: 0.00015, params: {'max_features': 'auto', 'n_estimators': 50, 'max_depth': 10, 'min_samples_leaf': 3}, mean: -2.39823, std: 0.00068, params: {'max_features': 'auto', 'n_estimators': 100, 'max_depth': 10, 'min_samples_leaf': 3}, mean: -2.40516, std: 0.00117, params: {'max_features': 'auto', 'n_estimators': 10, 'max_depth': 10, 'min_samples_leaf': 5}, mean: -2.39875, std: 0.00018, params: {'max_features': 'auto', 'n_estimators': 50, 'max_depth': 10, 'min_samples_leaf': 5}, mean: -2.39830, std: 0.00084, params: {'max_features': 'auto', 'n_estimators': 100, 'max_depth': 10, 'min_samples_leaf': 5}, mean: -2.40692, std: 0.00199, params: {'max_features': 'sqrt', 'n_estimators': 10, 'max_depth': 10, 'min_samples_leaf': 1}, mean: -2.39973, std: 0.00091, params: {'max_features': 'sqrt', 'n_estimators': 50, 'max_depth': 10, 'min_samples_leaf': 1}, mean: -2.39798, std: 0.00097, params: {'max_features': 'sqrt', 'n_estimators': 100, 'max_depth': 10, 'min_samples_leaf': 1}, mean: -2.40540, std: 0.00178, params: {'max_features': 'sqrt', 'n_estimators': 10, 'max_depth': 10, 'min_samples_leaf': 3}, mean: -2.39800, std: 0.00090, params: {'max_features': 'sqrt', 'n_estimators': 50, 'max_depth': 10, 'min_samples_leaf': 3}, mean: -2.39804, std: 0.00051, params: {'max_features': 'sqrt', 'n_estimators': 100, 'max_depth': 10, 'min_samples_leaf': 3}, mean: -2.40373, std: 0.00074, params: {'max_features': 'sqrt', 'n_estimators': 10, 'max_depth': 10, 'min_samples_leaf': 5}, mean: -2.39794, std: 0.00094, params: {'max_features': 'sqrt', 'n_estimators': 50, 'max_depth': 10, 'min_samples_leaf': 5}, mean: -2.39771, std: 0.00051, params: {'max_features': 'sqrt', 'n_estimators': 100, 'max_depth': 10, 'min_samples_leaf': 5}, mean: -2.40659, std: 0.00129, params: {'max_features': 'log2', 'n_estimators': 10, 'max_depth': 10, 'min_samples_leaf': 1}, mean: -2.40204, std: 0.00128, params: {'max_features': 'log2', 'n_estimators': 50, 'max_depth': 10, 'min_samples_leaf': 1}, mean: -2.39997, std: 0.00032, params: {'max_features': 'log2', 'n_estimators': 100, 'max_depth': 10, 'min_samples_leaf': 1}, mean: -2.40881, std: 0.00064, params: {'max_features': 'log2', 'n_estimators': 10, 'max_depth': 10, 'min_samples_leaf': 3}, mean: -2.40185, std: 0.00063, params: {'max_features': 'log2', 'n_estimators': 50, 'max_depth': 10, 'min_samples_leaf': 3}, mean: -2.40156, std: 0.00023, params: {'max_features': 'log2', 'n_estimators': 100, 'max_depth': 10, 'min_samples_leaf': 3}, mean: -2.40731, std: 0.00032, params: {'max_features': 'log2', 'n_estimators': 10, 'max_depth': 10, 'min_samples_leaf': 5}, mean: -2.40255, std: 0.00031, params: {'max_features': 'log2', 'n_estimators': 50, 'max_depth': 10, 'min_samples_leaf': 5}, mean: -2.40259, std: 0.00102, params: {'max_features': 'log2', 'n_estimators': 100, 'max_depth': 10, 'min_samples_leaf': 5}, mean: -2.44470, std: 0.00171, params: {'max_features': 'auto', 'n_estimators': 10, 'max_depth': 15, 'min_samples_leaf': 1}, mean: -2.41531, std: 0.00108, params: {'max_features': 'auto', 'n_estimators': 50, 'max_depth': 15, 'min_samples_leaf': 1}, mean: -2.41094, std: 0.00104, params: {'max_features': 'auto', 'n_estimators': 100, 'max_depth': 15, 'min_samples_leaf': 1}, mean: -2.42959, std: 0.00194, params: {'max_features': 'auto', 'n_estimators': 10, 'max_depth': 15, 'min_samples_leaf': 3}, mean: -2.40578, std: 0.00190, params: {'max_features': 'auto', 'n_estimators': 50, 'max_depth': 15, 'min_samples_leaf': 3}, mean: -2.40441, std: 0.00018, params: {'max_features': 'auto', 'n_estimators': 100, 'max_depth': 15, 'min_samples_leaf': 3}, mean: -2.42216, std: 0.00042, params: {'max_features': 'auto', 'n_estimators': 10, 'max_depth': 15, 'min_samples_leaf': 5}, mean: -2.40376, std: 0.00245, params: {'max_features': 'auto', 'n_estimators': 50, 'max_depth': 15, 'min_samples_leaf': 5}, mean: -2.40141, std: 0.00039, params: {'max_features': 'auto', 'n_estimators': 100, 'max_depth': 15, 'min_samples_leaf': 5}, mean: -2.44560, std: 0.00719, params: {'max_features': 'sqrt', 'n_estimators': 10, 'max_depth': 15, 'min_samples_leaf': 1}, mean: -2.41557, std: 0.00171, params: {'max_features': 'sqrt', 'n_estimators': 50, 'max_depth': 15, 'min_samples_leaf': 1}, mean: -2.41190, std: 0.00090, params: {'max_features': 'sqrt', 'n_estimators': 100, 'max_depth': 15, 'min_samples_leaf': 1}, mean: -2.42587, std: 0.00135, params: {'max_features': 'sqrt', 'n_estimators': 10, 'max_depth': 15, 'min_samples_leaf': 3}, mean: -2.40884, std: 0.00206, params: {'max_features': 'sqrt', 'n_estimators': 50, 'max_depth': 15, 'min_samples_leaf': 3}, mean: -2.40447, std: 0.00158, params: {'max_features': 'sqrt', 'n_estimators': 100, 'max_depth': 15, 'min_samples_leaf': 3}, mean: -2.41791, std: 0.00275, params: {'max_features': 'sqrt', 'n_estimators': 10, 'max_depth': 15, 'min_samples_leaf': 5}, mean: -2.40275, std: 0.00089, params: {'max_features': 'sqrt', 'n_estimators': 50, 'max_depth': 15, 'min_samples_leaf': 5}, mean: -2.40168, std: 0.00098, params: {'max_features': 'sqrt', 'n_estimators': 100, 'max_depth': 15, 'min_samples_leaf': 5}, mean: -2.42477, std: 0.00366, params: {'max_features': 'log2', 'n_estimators': 10, 'max_depth': 15, 'min_samples_leaf': 1}, mean: -2.40859, std: 0.00113, params: {'max_features': 'log2', 'n_estimators': 50, 'max_depth': 15, 'min_samples_leaf': 1}, mean: -2.40473, std: 0.00218, params: {'max_features': 'log2', 'n_estimators': 100, 'max_depth': 15, 'min_samples_leaf': 1}, mean: -2.41596, std: 0.00449, params: {'max_features': 'log2', 'n_estimators': 10, 'max_depth': 15, 'min_samples_leaf': 3}, mean: -2.40415, std: 0.00200, params: {'max_features': 'log2', 'n_estimators': 50, 'max_depth': 15, 'min_samples_leaf': 3}, mean: -2.40205, std: 0.00083, params: {'max_features': 'log2', 'n_estimators': 100, 'max_depth': 15, 'min_samples_leaf': 3}, mean: -2.41368, std: 0.00160, params: {'max_features': 'log2', 'n_estimators': 10, 'max_depth': 15, 'min_samples_leaf': 5}, mean: -2.40187, std: 0.00050, params: {'max_features': 'log2', 'n_estimators': 50, 'max_depth': 15, 'min_samples_leaf': 5}, mean: -2.40187, std: 0.00067, params: {'max_features': 'log2', 'n_estimators': 100, 'max_depth': 15, 'min_samples_leaf': 5}]\n",
      "\n",
      "{'max_features': 'auto', 'n_estimators': 100, 'max_depth': 10, 'min_samples_leaf': 1}\n",
      "\n",
      "-2.39758424194\n"
     ]
    }
   ],
   "source": [
    "print clf.grid_scores_\n",
    "print \n",
    "print clf.best_params_\n",
    "print \n",
    "print clf.best_score_"
   ]
  },
  {
   "cell_type": "code",
   "execution_count": 37,
   "metadata": {
    "collapsed": false
   },
   "outputs": [
    {
     "name": "stdout",
     "output_type": "stream",
     "text": [
      "Log loss on unseen data 2.395194 \n"
     ]
    }
   ],
   "source": [
    "print 'Log loss on unseen data %f '%(log_loss(y_test, clf.best_estimator_.predict_proba(X_test)))"
   ]
  },
  {
   "cell_type": "code",
   "execution_count": 94,
   "metadata": {
    "collapsed": true
   },
   "outputs": [],
   "source": [
    "clf.best_estimator_.fit(X, y)\n",
    "\n",
    "predictions = clf.best_estimator_.predict_proba(test)"
   ]
  },
  {
   "cell_type": "code",
   "execution_count": 95,
   "metadata": {
    "collapsed": false
   },
   "outputs": [
    {
     "data": {
      "text/html": [
       "<div>\n",
       "<table border=\"1\" class=\"dataframe\">\n",
       "  <thead>\n",
       "    <tr style=\"text-align: right;\">\n",
       "      <th></th>\n",
       "      <th>device_id</th>\n",
       "      <th>F23-</th>\n",
       "      <th>F24-26</th>\n",
       "      <th>F27-28</th>\n",
       "      <th>F29-32</th>\n",
       "      <th>F33-42</th>\n",
       "      <th>F43+</th>\n",
       "      <th>M22-</th>\n",
       "      <th>M23-26</th>\n",
       "      <th>M27-28</th>\n",
       "      <th>M29-31</th>\n",
       "      <th>M32-38</th>\n",
       "      <th>M39+</th>\n",
       "    </tr>\n",
       "  </thead>\n",
       "  <tbody>\n",
       "    <tr>\n",
       "      <th>0</th>\n",
       "      <td>1002079943728939269</td>\n",
       "      <td>0.0833</td>\n",
       "      <td>0.0833</td>\n",
       "      <td>0.0833</td>\n",
       "      <td>0.0833</td>\n",
       "      <td>0.0833</td>\n",
       "      <td>0.0833</td>\n",
       "      <td>0.0833</td>\n",
       "      <td>0.0833</td>\n",
       "      <td>0.0833</td>\n",
       "      <td>0.0833</td>\n",
       "      <td>0.0833</td>\n",
       "      <td>0.0833</td>\n",
       "    </tr>\n",
       "    <tr>\n",
       "      <th>1</th>\n",
       "      <td>-1547860181818787117</td>\n",
       "      <td>0.0833</td>\n",
       "      <td>0.0833</td>\n",
       "      <td>0.0833</td>\n",
       "      <td>0.0833</td>\n",
       "      <td>0.0833</td>\n",
       "      <td>0.0833</td>\n",
       "      <td>0.0833</td>\n",
       "      <td>0.0833</td>\n",
       "      <td>0.0833</td>\n",
       "      <td>0.0833</td>\n",
       "      <td>0.0833</td>\n",
       "      <td>0.0833</td>\n",
       "    </tr>\n",
       "    <tr>\n",
       "      <th>2</th>\n",
       "      <td>7374582448058474277</td>\n",
       "      <td>0.0833</td>\n",
       "      <td>0.0833</td>\n",
       "      <td>0.0833</td>\n",
       "      <td>0.0833</td>\n",
       "      <td>0.0833</td>\n",
       "      <td>0.0833</td>\n",
       "      <td>0.0833</td>\n",
       "      <td>0.0833</td>\n",
       "      <td>0.0833</td>\n",
       "      <td>0.0833</td>\n",
       "      <td>0.0833</td>\n",
       "      <td>0.0833</td>\n",
       "    </tr>\n",
       "    <tr>\n",
       "      <th>3</th>\n",
       "      <td>-6220210354783429585</td>\n",
       "      <td>0.0833</td>\n",
       "      <td>0.0833</td>\n",
       "      <td>0.0833</td>\n",
       "      <td>0.0833</td>\n",
       "      <td>0.0833</td>\n",
       "      <td>0.0833</td>\n",
       "      <td>0.0833</td>\n",
       "      <td>0.0833</td>\n",
       "      <td>0.0833</td>\n",
       "      <td>0.0833</td>\n",
       "      <td>0.0833</td>\n",
       "      <td>0.0833</td>\n",
       "    </tr>\n",
       "    <tr>\n",
       "      <th>4</th>\n",
       "      <td>-5893464122623104785</td>\n",
       "      <td>0.0833</td>\n",
       "      <td>0.0833</td>\n",
       "      <td>0.0833</td>\n",
       "      <td>0.0833</td>\n",
       "      <td>0.0833</td>\n",
       "      <td>0.0833</td>\n",
       "      <td>0.0833</td>\n",
       "      <td>0.0833</td>\n",
       "      <td>0.0833</td>\n",
       "      <td>0.0833</td>\n",
       "      <td>0.0833</td>\n",
       "      <td>0.0833</td>\n",
       "    </tr>\n",
       "  </tbody>\n",
       "</table>\n",
       "</div>"
      ],
      "text/plain": [
       "             device_id    F23-  F24-26  F27-28  F29-32  F33-42    F43+  \\\n",
       "0  1002079943728939269  0.0833  0.0833  0.0833  0.0833  0.0833  0.0833   \n",
       "1 -1547860181818787117  0.0833  0.0833  0.0833  0.0833  0.0833  0.0833   \n",
       "2  7374582448058474277  0.0833  0.0833  0.0833  0.0833  0.0833  0.0833   \n",
       "3 -6220210354783429585  0.0833  0.0833  0.0833  0.0833  0.0833  0.0833   \n",
       "4 -5893464122623104785  0.0833  0.0833  0.0833  0.0833  0.0833  0.0833   \n",
       "\n",
       "     M22-  M23-26  M27-28  M29-31  M32-38    M39+  \n",
       "0  0.0833  0.0833  0.0833  0.0833  0.0833  0.0833  \n",
       "1  0.0833  0.0833  0.0833  0.0833  0.0833  0.0833  \n",
       "2  0.0833  0.0833  0.0833  0.0833  0.0833  0.0833  \n",
       "3  0.0833  0.0833  0.0833  0.0833  0.0833  0.0833  \n",
       "4  0.0833  0.0833  0.0833  0.0833  0.0833  0.0833  "
      ]
     },
     "execution_count": 95,
     "metadata": {},
     "output_type": "execute_result"
    }
   ],
   "source": [
    "submission = pd.read_csv('../data/sample_submission.csv'); submission.head()"
   ]
  },
  {
   "cell_type": "code",
   "execution_count": 96,
   "metadata": {
    "collapsed": true
   },
   "outputs": [],
   "source": [
    "submission[submission.columns[1:]] = predictions"
   ]
  },
  {
   "cell_type": "code",
   "execution_count": 97,
   "metadata": {
    "collapsed": false
   },
   "outputs": [
    {
     "data": {
      "text/html": [
       "<div>\n",
       "<table border=\"1\" class=\"dataframe\">\n",
       "  <thead>\n",
       "    <tr style=\"text-align: right;\">\n",
       "      <th></th>\n",
       "      <th>device_id</th>\n",
       "      <th>F23-</th>\n",
       "      <th>F24-26</th>\n",
       "      <th>F27-28</th>\n",
       "      <th>F29-32</th>\n",
       "      <th>F33-42</th>\n",
       "      <th>F43+</th>\n",
       "      <th>M22-</th>\n",
       "      <th>M23-26</th>\n",
       "      <th>M27-28</th>\n",
       "      <th>M29-31</th>\n",
       "      <th>M32-38</th>\n",
       "      <th>M39+</th>\n",
       "    </tr>\n",
       "  </thead>\n",
       "  <tbody>\n",
       "    <tr>\n",
       "      <th>0</th>\n",
       "      <td>1002079943728939269</td>\n",
       "      <td>0.048180</td>\n",
       "      <td>0.049462</td>\n",
       "      <td>0.039710</td>\n",
       "      <td>0.070945</td>\n",
       "      <td>0.077589</td>\n",
       "      <td>0.057783</td>\n",
       "      <td>0.081051</td>\n",
       "      <td>0.129960</td>\n",
       "      <td>0.072653</td>\n",
       "      <td>0.109312</td>\n",
       "      <td>0.139821</td>\n",
       "      <td>0.123534</td>\n",
       "    </tr>\n",
       "    <tr>\n",
       "      <th>1</th>\n",
       "      <td>-1547860181818787117</td>\n",
       "      <td>0.052818</td>\n",
       "      <td>0.049582</td>\n",
       "      <td>0.034941</td>\n",
       "      <td>0.061876</td>\n",
       "      <td>0.072086</td>\n",
       "      <td>0.073516</td>\n",
       "      <td>0.076712</td>\n",
       "      <td>0.127446</td>\n",
       "      <td>0.069600</td>\n",
       "      <td>0.107155</td>\n",
       "      <td>0.142020</td>\n",
       "      <td>0.132250</td>\n",
       "    </tr>\n",
       "    <tr>\n",
       "      <th>2</th>\n",
       "      <td>7374582448058474277</td>\n",
       "      <td>0.088844</td>\n",
       "      <td>0.063656</td>\n",
       "      <td>0.063119</td>\n",
       "      <td>0.057051</td>\n",
       "      <td>0.066990</td>\n",
       "      <td>0.056965</td>\n",
       "      <td>0.110054</td>\n",
       "      <td>0.094622</td>\n",
       "      <td>0.065683</td>\n",
       "      <td>0.085074</td>\n",
       "      <td>0.127268</td>\n",
       "      <td>0.120674</td>\n",
       "    </tr>\n",
       "    <tr>\n",
       "      <th>3</th>\n",
       "      <td>-6220210354783429585</td>\n",
       "      <td>0.041442</td>\n",
       "      <td>0.043341</td>\n",
       "      <td>0.028820</td>\n",
       "      <td>0.057614</td>\n",
       "      <td>0.066906</td>\n",
       "      <td>0.066377</td>\n",
       "      <td>0.065847</td>\n",
       "      <td>0.119215</td>\n",
       "      <td>0.076738</td>\n",
       "      <td>0.119894</td>\n",
       "      <td>0.163777</td>\n",
       "      <td>0.150030</td>\n",
       "    </tr>\n",
       "    <tr>\n",
       "      <th>4</th>\n",
       "      <td>-5893464122623104785</td>\n",
       "      <td>0.042922</td>\n",
       "      <td>0.077138</td>\n",
       "      <td>0.044311</td>\n",
       "      <td>0.068691</td>\n",
       "      <td>0.038260</td>\n",
       "      <td>0.035560</td>\n",
       "      <td>0.080273</td>\n",
       "      <td>0.172094</td>\n",
       "      <td>0.112059</td>\n",
       "      <td>0.113597</td>\n",
       "      <td>0.127610</td>\n",
       "      <td>0.087485</td>\n",
       "    </tr>\n",
       "  </tbody>\n",
       "</table>\n",
       "</div>"
      ],
      "text/plain": [
       "             device_id      F23-    F24-26    F27-28    F29-32    F33-42  \\\n",
       "0  1002079943728939269  0.048180  0.049462  0.039710  0.070945  0.077589   \n",
       "1 -1547860181818787117  0.052818  0.049582  0.034941  0.061876  0.072086   \n",
       "2  7374582448058474277  0.088844  0.063656  0.063119  0.057051  0.066990   \n",
       "3 -6220210354783429585  0.041442  0.043341  0.028820  0.057614  0.066906   \n",
       "4 -5893464122623104785  0.042922  0.077138  0.044311  0.068691  0.038260   \n",
       "\n",
       "       F43+      M22-    M23-26    M27-28    M29-31    M32-38      M39+  \n",
       "0  0.057783  0.081051  0.129960  0.072653  0.109312  0.139821  0.123534  \n",
       "1  0.073516  0.076712  0.127446  0.069600  0.107155  0.142020  0.132250  \n",
       "2  0.056965  0.110054  0.094622  0.065683  0.085074  0.127268  0.120674  \n",
       "3  0.066377  0.065847  0.119215  0.076738  0.119894  0.163777  0.150030  \n",
       "4  0.035560  0.080273  0.172094  0.112059  0.113597  0.127610  0.087485  "
      ]
     },
     "execution_count": 97,
     "metadata": {},
     "output_type": "execute_result"
    }
   ],
   "source": [
    "submission.head()"
   ]
  },
  {
   "cell_type": "code",
   "execution_count": 98,
   "metadata": {
    "collapsed": true
   },
   "outputs": [],
   "source": [
    "submission.to_csv('../submissions/decision_tree_classifier_2.395680.csv', index=False)"
   ]
  },
  {
   "cell_type": "code",
   "execution_count": null,
   "metadata": {
    "collapsed": true
   },
   "outputs": [],
   "source": []
  }
 ],
 "metadata": {
  "kernelspec": {
   "display_name": "Python 2",
   "language": "python",
   "name": "python2"
  },
  "language_info": {
   "codemirror_mode": {
    "name": "ipython",
    "version": 2
   },
   "file_extension": ".py",
   "mimetype": "text/x-python",
   "name": "python",
   "nbconvert_exporter": "python",
   "pygments_lexer": "ipython2",
   "version": "2.7.11"
  }
 },
 "nbformat": 4,
 "nbformat_minor": 0
}
