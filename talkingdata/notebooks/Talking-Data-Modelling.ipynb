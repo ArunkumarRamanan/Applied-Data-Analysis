{
 "cells": [
  {
   "cell_type": "code",
   "execution_count": 1,
   "metadata": {
    "collapsed": false
   },
   "outputs": [
    {
     "name": "stderr",
     "output_type": "stream",
     "text": [
      "C:\\Users\\Abhishek\\Anaconda2\\lib\\site-packages\\matplotlib\\__init__.py:872: UserWarning: axes.color_cycle is deprecated and replaced with axes.prop_cycle; please use the latter.\n",
      "  warnings.warn(self.msg_depr % (key, alt_key))\n"
     ]
    }
   ],
   "source": [
    "%matplotlib inline\n",
    "\n",
    "import numpy as np\n",
    "import pandas as pd\n",
    "import scipy as sp\n",
    "\n",
    "from sklearn.preprocessing import LabelEncoder\n",
    "from sklearn.tree import DecisionTreeClassifier\n",
    "from sklearn.ensemble import RandomForestClassifier, GradientBoostingClassifier\n",
    "from sklearn.cross_validation import train_test_split, cross_val_score, StratifiedKFold\n",
    "from sklearn.grid_search import GridSearchCV\n",
    "from xgboost import XGBClassifier\n",
    "from sklearn.metrics import log_loss\n",
    "\n",
    "import matplotlib.pyplot as plt\n",
    "import seaborn as sns\n",
    "\n",
    "import warnings\n",
    "warnings.filterwarnings('ignore')\n",
    "\n",
    "np.random.seed(44)"
   ]
  },
  {
   "cell_type": "code",
   "execution_count": 2,
   "metadata": {
    "collapsed": true
   },
   "outputs": [],
   "source": [
    "# load files\n",
    "train = pd.read_csv('../processed/train_processed.csv')\n",
    "test = pd.read_csv('../processed/test_processed.csv')"
   ]
  },
  {
   "cell_type": "code",
   "execution_count": 4,
   "metadata": {
    "collapsed": false
   },
   "outputs": [],
   "source": [
    "## Encode categorical variables to numerical variables\n",
    "\n",
    "lbl = LabelEncoder()\n",
    "\n",
    "lbl.fit(train.group)\n",
    "train['group'] = lbl.transform(train.group)\n",
    "\n",
    "lbl.fit(pd.concat([train.device_model, test.device_model], axis=0))\n",
    "train['device_model'] = lbl.transform(train.device_model)\n",
    "test['device_model'] = lbl.transform(test.device_model)\n",
    "\n",
    "lbl.fit(pd.concat([train.phone_brand, test.phone_brand], axis=0))\n",
    "train['phone_brand'] = lbl.transform(train.phone_brand)\n",
    "test['phone_brand'] = lbl.transform(test.phone_brand)"
   ]
  },
  {
   "cell_type": "code",
   "execution_count": 5,
   "metadata": {
    "collapsed": false
   },
   "outputs": [],
   "source": [
    "features = train.columns.drop('group')\n",
    "\n",
    "X =  train[features]\n",
    "y = train.group"
   ]
  },
  {
   "cell_type": "markdown",
   "metadata": {},
   "source": [
    "## Split into training and test set"
   ]
  },
  {
   "cell_type": "code",
   "execution_count": 6,
   "metadata": {
    "collapsed": false
   },
   "outputs": [],
   "source": [
    "X_train, X_test, y_train, y_test = train_test_split(X, y, stratify=y, test_size=0.25, random_state=0)"
   ]
  },
  {
   "cell_type": "code",
   "execution_count": 7,
   "metadata": {
    "collapsed": false
   },
   "outputs": [
    {
     "name": "stdout",
     "output_type": "stream",
     "text": [
      "(55983, 6) (18662, 6) (55983L,) (18662L,)\n"
     ]
    }
   ],
   "source": [
    "print X_train.shape, X_test.shape, y_train.shape, y_test.shape"
   ]
  },
  {
   "cell_type": "code",
   "execution_count": 8,
   "metadata": {
    "collapsed": false
   },
   "outputs": [
    {
     "data": {
      "text/plain": [
       "Index([u'device_id', u'phone_brand', u'device_model', u'brand_popularity',\n",
       "       u'model_popularity', u'event_generated'],\n",
       "      dtype='object')"
      ]
     },
     "execution_count": 8,
     "metadata": {},
     "output_type": "execute_result"
    }
   ],
   "source": [
    "X_train.columns"
   ]
  },
  {
   "cell_type": "markdown",
   "metadata": {},
   "source": [
    "## Train the model"
   ]
  },
  {
   "cell_type": "code",
   "execution_count": 49,
   "metadata": {
    "collapsed": false
   },
   "outputs": [
    {
     "name": "stdout",
     "output_type": "stream",
     "text": [
      "Log Loss on the training set 2.362101 \n",
      "Log Loss on the test set 2.393004 \n"
     ]
    }
   ],
   "source": [
    "# tree = DecisionTreeClassifier(criterion='gini', max_depth=3, max_features='auto')\n",
    "# tree.fit(X_train, y_train)\n",
    "\n",
    "tree = RandomForestClassifier(n_estimators=100, max_depth=7, max_features='auto', n_jobs=-1)\n",
    "tree.fit(X_train, y_train)\n",
    "\n",
    "# tree = GradientBoostingClassifier()\n",
    "# tree.fit(X_train, y_train)\n",
    "\n",
    "# tree = XGBClassifier()\n",
    "# tree.fit(X_train, y_train)\n",
    "\n",
    "print 'Log Loss on the training set %f ' %(log_loss(y_train, tree.predict_proba(X_train)))\n",
    "print 'Log Loss on the test set %f ' %(log_loss(y_test, tree.predict_proba(X_test)))"
   ]
  },
  {
   "cell_type": "markdown",
   "metadata": {},
   "source": [
    "### Tuning Parameters"
   ]
  },
  {
   "cell_type": "code",
   "execution_count": null,
   "metadata": {
    "collapsed": false
   },
   "outputs": [],
   "source": [
    "tuned_parameters = {\n",
    "        'n_estimators': [100],\n",
    "        'max_depth': [5, 6, 7, 8, 9, 10],\n",
    "        'max_features': ['auto', 'sqrt']\n",
    "    }\n",
    "\n",
    "skf = StratifiedKFold(y=y_train, random_state=1)\n",
    "clf = GridSearchCV(estimator=RandomForestClassifier(n_jobs=-1), param_grid=tuned_parameters, cv=skf, scoring='log_loss')\n",
    "clf.fit(X_train, y_train)"
   ]
  },
  {
   "cell_type": "code",
   "execution_count": 36,
   "metadata": {
    "collapsed": false
   },
   "outputs": [
    {
     "name": "stdout",
     "output_type": "stream",
     "text": [
      "[mean: -2.40871, std: 0.00042, params: {'max_features': 'auto', 'n_estimators': 10, 'max_depth': 5, 'min_samples_leaf': 1}, mean: -2.40757, std: 0.00061, params: {'max_features': 'auto', 'n_estimators': 50, 'max_depth': 5, 'min_samples_leaf': 1}, mean: -2.40801, std: 0.00046, params: {'max_features': 'auto', 'n_estimators': 100, 'max_depth': 5, 'min_samples_leaf': 1}, mean: -2.40744, std: 0.00194, params: {'max_features': 'auto', 'n_estimators': 10, 'max_depth': 5, 'min_samples_leaf': 3}, mean: -2.40788, std: 0.00047, params: {'max_features': 'auto', 'n_estimators': 50, 'max_depth': 5, 'min_samples_leaf': 3}, mean: -2.40734, std: 0.00025, params: {'max_features': 'auto', 'n_estimators': 100, 'max_depth': 5, 'min_samples_leaf': 3}, mean: -2.41019, std: 0.00138, params: {'max_features': 'auto', 'n_estimators': 10, 'max_depth': 5, 'min_samples_leaf': 5}, mean: -2.40764, std: 0.00053, params: {'max_features': 'auto', 'n_estimators': 50, 'max_depth': 5, 'min_samples_leaf': 5}, mean: -2.40733, std: 0.00045, params: {'max_features': 'auto', 'n_estimators': 100, 'max_depth': 5, 'min_samples_leaf': 5}, mean: -2.40941, std: 0.00147, params: {'max_features': 'sqrt', 'n_estimators': 10, 'max_depth': 5, 'min_samples_leaf': 1}, mean: -2.40767, std: 0.00074, params: {'max_features': 'sqrt', 'n_estimators': 50, 'max_depth': 5, 'min_samples_leaf': 1}, mean: -2.40737, std: 0.00054, params: {'max_features': 'sqrt', 'n_estimators': 100, 'max_depth': 5, 'min_samples_leaf': 1}, mean: -2.40856, std: 0.00025, params: {'max_features': 'sqrt', 'n_estimators': 10, 'max_depth': 5, 'min_samples_leaf': 3}, mean: -2.40762, std: 0.00049, params: {'max_features': 'sqrt', 'n_estimators': 50, 'max_depth': 5, 'min_samples_leaf': 3}, mean: -2.40793, std: 0.00053, params: {'max_features': 'sqrt', 'n_estimators': 100, 'max_depth': 5, 'min_samples_leaf': 3}, mean: -2.40812, std: 0.00223, params: {'max_features': 'sqrt', 'n_estimators': 10, 'max_depth': 5, 'min_samples_leaf': 5}, mean: -2.40791, std: 0.00078, params: {'max_features': 'sqrt', 'n_estimators': 50, 'max_depth': 5, 'min_samples_leaf': 5}, mean: -2.40777, std: 0.00066, params: {'max_features': 'sqrt', 'n_estimators': 100, 'max_depth': 5, 'min_samples_leaf': 5}, mean: -2.41407, std: 0.00153, params: {'max_features': 'log2', 'n_estimators': 10, 'max_depth': 5, 'min_samples_leaf': 1}, mean: -2.41114, std: 0.00094, params: {'max_features': 'log2', 'n_estimators': 50, 'max_depth': 5, 'min_samples_leaf': 1}, mean: -2.41098, std: 0.00064, params: {'max_features': 'log2', 'n_estimators': 100, 'max_depth': 5, 'min_samples_leaf': 1}, mean: -2.41213, std: 0.00041, params: {'max_features': 'log2', 'n_estimators': 10, 'max_depth': 5, 'min_samples_leaf': 3}, mean: -2.41129, std: 0.00129, params: {'max_features': 'log2', 'n_estimators': 50, 'max_depth': 5, 'min_samples_leaf': 3}, mean: -2.41120, std: 0.00050, params: {'max_features': 'log2', 'n_estimators': 100, 'max_depth': 5, 'min_samples_leaf': 3}, mean: -2.41375, std: 0.00223, params: {'max_features': 'log2', 'n_estimators': 10, 'max_depth': 5, 'min_samples_leaf': 5}, mean: -2.41217, std: 0.00057, params: {'max_features': 'log2', 'n_estimators': 50, 'max_depth': 5, 'min_samples_leaf': 5}, mean: -2.41187, std: 0.00019, params: {'max_features': 'log2', 'n_estimators': 100, 'max_depth': 5, 'min_samples_leaf': 5}, mean: -2.40523, std: 0.00099, params: {'max_features': 'auto', 'n_estimators': 10, 'max_depth': 10, 'min_samples_leaf': 1}, mean: -2.39881, std: 0.00125, params: {'max_features': 'auto', 'n_estimators': 50, 'max_depth': 10, 'min_samples_leaf': 1}, mean: -2.39758, std: 0.00049, params: {'max_features': 'auto', 'n_estimators': 100, 'max_depth': 10, 'min_samples_leaf': 1}, mean: -2.40404, std: 0.00156, params: {'max_features': 'auto', 'n_estimators': 10, 'max_depth': 10, 'min_samples_leaf': 3}, mean: -2.39899, std: 0.00015, params: {'max_features': 'auto', 'n_estimators': 50, 'max_depth': 10, 'min_samples_leaf': 3}, mean: -2.39823, std: 0.00068, params: {'max_features': 'auto', 'n_estimators': 100, 'max_depth': 10, 'min_samples_leaf': 3}, mean: -2.40516, std: 0.00117, params: {'max_features': 'auto', 'n_estimators': 10, 'max_depth': 10, 'min_samples_leaf': 5}, mean: -2.39875, std: 0.00018, params: {'max_features': 'auto', 'n_estimators': 50, 'max_depth': 10, 'min_samples_leaf': 5}, mean: -2.39830, std: 0.00084, params: {'max_features': 'auto', 'n_estimators': 100, 'max_depth': 10, 'min_samples_leaf': 5}, mean: -2.40692, std: 0.00199, params: {'max_features': 'sqrt', 'n_estimators': 10, 'max_depth': 10, 'min_samples_leaf': 1}, mean: -2.39973, std: 0.00091, params: {'max_features': 'sqrt', 'n_estimators': 50, 'max_depth': 10, 'min_samples_leaf': 1}, mean: -2.39798, std: 0.00097, params: {'max_features': 'sqrt', 'n_estimators': 100, 'max_depth': 10, 'min_samples_leaf': 1}, mean: -2.40540, std: 0.00178, params: {'max_features': 'sqrt', 'n_estimators': 10, 'max_depth': 10, 'min_samples_leaf': 3}, mean: -2.39800, std: 0.00090, params: {'max_features': 'sqrt', 'n_estimators': 50, 'max_depth': 10, 'min_samples_leaf': 3}, mean: -2.39804, std: 0.00051, params: {'max_features': 'sqrt', 'n_estimators': 100, 'max_depth': 10, 'min_samples_leaf': 3}, mean: -2.40373, std: 0.00074, params: {'max_features': 'sqrt', 'n_estimators': 10, 'max_depth': 10, 'min_samples_leaf': 5}, mean: -2.39794, std: 0.00094, params: {'max_features': 'sqrt', 'n_estimators': 50, 'max_depth': 10, 'min_samples_leaf': 5}, mean: -2.39771, std: 0.00051, params: {'max_features': 'sqrt', 'n_estimators': 100, 'max_depth': 10, 'min_samples_leaf': 5}, mean: -2.40659, std: 0.00129, params: {'max_features': 'log2', 'n_estimators': 10, 'max_depth': 10, 'min_samples_leaf': 1}, mean: -2.40204, std: 0.00128, params: {'max_features': 'log2', 'n_estimators': 50, 'max_depth': 10, 'min_samples_leaf': 1}, mean: -2.39997, std: 0.00032, params: {'max_features': 'log2', 'n_estimators': 100, 'max_depth': 10, 'min_samples_leaf': 1}, mean: -2.40881, std: 0.00064, params: {'max_features': 'log2', 'n_estimators': 10, 'max_depth': 10, 'min_samples_leaf': 3}, mean: -2.40185, std: 0.00063, params: {'max_features': 'log2', 'n_estimators': 50, 'max_depth': 10, 'min_samples_leaf': 3}, mean: -2.40156, std: 0.00023, params: {'max_features': 'log2', 'n_estimators': 100, 'max_depth': 10, 'min_samples_leaf': 3}, mean: -2.40731, std: 0.00032, params: {'max_features': 'log2', 'n_estimators': 10, 'max_depth': 10, 'min_samples_leaf': 5}, mean: -2.40255, std: 0.00031, params: {'max_features': 'log2', 'n_estimators': 50, 'max_depth': 10, 'min_samples_leaf': 5}, mean: -2.40259, std: 0.00102, params: {'max_features': 'log2', 'n_estimators': 100, 'max_depth': 10, 'min_samples_leaf': 5}, mean: -2.44470, std: 0.00171, params: {'max_features': 'auto', 'n_estimators': 10, 'max_depth': 15, 'min_samples_leaf': 1}, mean: -2.41531, std: 0.00108, params: {'max_features': 'auto', 'n_estimators': 50, 'max_depth': 15, 'min_samples_leaf': 1}, mean: -2.41094, std: 0.00104, params: {'max_features': 'auto', 'n_estimators': 100, 'max_depth': 15, 'min_samples_leaf': 1}, mean: -2.42959, std: 0.00194, params: {'max_features': 'auto', 'n_estimators': 10, 'max_depth': 15, 'min_samples_leaf': 3}, mean: -2.40578, std: 0.00190, params: {'max_features': 'auto', 'n_estimators': 50, 'max_depth': 15, 'min_samples_leaf': 3}, mean: -2.40441, std: 0.00018, params: {'max_features': 'auto', 'n_estimators': 100, 'max_depth': 15, 'min_samples_leaf': 3}, mean: -2.42216, std: 0.00042, params: {'max_features': 'auto', 'n_estimators': 10, 'max_depth': 15, 'min_samples_leaf': 5}, mean: -2.40376, std: 0.00245, params: {'max_features': 'auto', 'n_estimators': 50, 'max_depth': 15, 'min_samples_leaf': 5}, mean: -2.40141, std: 0.00039, params: {'max_features': 'auto', 'n_estimators': 100, 'max_depth': 15, 'min_samples_leaf': 5}, mean: -2.44560, std: 0.00719, params: {'max_features': 'sqrt', 'n_estimators': 10, 'max_depth': 15, 'min_samples_leaf': 1}, mean: -2.41557, std: 0.00171, params: {'max_features': 'sqrt', 'n_estimators': 50, 'max_depth': 15, 'min_samples_leaf': 1}, mean: -2.41190, std: 0.00090, params: {'max_features': 'sqrt', 'n_estimators': 100, 'max_depth': 15, 'min_samples_leaf': 1}, mean: -2.42587, std: 0.00135, params: {'max_features': 'sqrt', 'n_estimators': 10, 'max_depth': 15, 'min_samples_leaf': 3}, mean: -2.40884, std: 0.00206, params: {'max_features': 'sqrt', 'n_estimators': 50, 'max_depth': 15, 'min_samples_leaf': 3}, mean: -2.40447, std: 0.00158, params: {'max_features': 'sqrt', 'n_estimators': 100, 'max_depth': 15, 'min_samples_leaf': 3}, mean: -2.41791, std: 0.00275, params: {'max_features': 'sqrt', 'n_estimators': 10, 'max_depth': 15, 'min_samples_leaf': 5}, mean: -2.40275, std: 0.00089, params: {'max_features': 'sqrt', 'n_estimators': 50, 'max_depth': 15, 'min_samples_leaf': 5}, mean: -2.40168, std: 0.00098, params: {'max_features': 'sqrt', 'n_estimators': 100, 'max_depth': 15, 'min_samples_leaf': 5}, mean: -2.42477, std: 0.00366, params: {'max_features': 'log2', 'n_estimators': 10, 'max_depth': 15, 'min_samples_leaf': 1}, mean: -2.40859, std: 0.00113, params: {'max_features': 'log2', 'n_estimators': 50, 'max_depth': 15, 'min_samples_leaf': 1}, mean: -2.40473, std: 0.00218, params: {'max_features': 'log2', 'n_estimators': 100, 'max_depth': 15, 'min_samples_leaf': 1}, mean: -2.41596, std: 0.00449, params: {'max_features': 'log2', 'n_estimators': 10, 'max_depth': 15, 'min_samples_leaf': 3}, mean: -2.40415, std: 0.00200, params: {'max_features': 'log2', 'n_estimators': 50, 'max_depth': 15, 'min_samples_leaf': 3}, mean: -2.40205, std: 0.00083, params: {'max_features': 'log2', 'n_estimators': 100, 'max_depth': 15, 'min_samples_leaf': 3}, mean: -2.41368, std: 0.00160, params: {'max_features': 'log2', 'n_estimators': 10, 'max_depth': 15, 'min_samples_leaf': 5}, mean: -2.40187, std: 0.00050, params: {'max_features': 'log2', 'n_estimators': 50, 'max_depth': 15, 'min_samples_leaf': 5}, mean: -2.40187, std: 0.00067, params: {'max_features': 'log2', 'n_estimators': 100, 'max_depth': 15, 'min_samples_leaf': 5}]\n",
      "\n",
      "{'max_features': 'auto', 'n_estimators': 100, 'max_depth': 10, 'min_samples_leaf': 1}\n",
      "\n",
      "-2.39758424194\n"
     ]
    }
   ],
   "source": [
    "print clf.grid_scores_\n",
    "print \n",
    "print clf.best_params_\n",
    "print \n",
    "print clf.best_score_"
   ]
  },
  {
   "cell_type": "code",
   "execution_count": 37,
   "metadata": {
    "collapsed": false
   },
   "outputs": [
    {
     "name": "stdout",
     "output_type": "stream",
     "text": [
      "Log loss on unseen data 2.395194 \n"
     ]
    }
   ],
   "source": [
    "print 'Log loss on unseen data %f '%(log_loss(y_test, clf.best_estimator_.predict_proba(X_test)))"
   ]
  },
  {
   "cell_type": "code",
   "execution_count": 47,
   "metadata": {
    "collapsed": true
   },
   "outputs": [],
   "source": [
    "# clf.best_estimator_.fit(X, y)\n",
    "\n",
    "tree.fit(X, y)\n",
    "predictions = tree.predict_proba(test)"
   ]
  },
  {
   "cell_type": "code",
   "execution_count": 48,
   "metadata": {
    "collapsed": false
   },
   "outputs": [
    {
     "data": {
      "text/html": [
       "<div>\n",
       "<table border=\"1\" class=\"dataframe\">\n",
       "  <thead>\n",
       "    <tr style=\"text-align: right;\">\n",
       "      <th></th>\n",
       "      <th>device_id</th>\n",
       "      <th>F23-</th>\n",
       "      <th>F24-26</th>\n",
       "      <th>F27-28</th>\n",
       "      <th>F29-32</th>\n",
       "      <th>F33-42</th>\n",
       "      <th>F43+</th>\n",
       "      <th>M22-</th>\n",
       "      <th>M23-26</th>\n",
       "      <th>M27-28</th>\n",
       "      <th>M29-31</th>\n",
       "      <th>M32-38</th>\n",
       "      <th>M39+</th>\n",
       "    </tr>\n",
       "  </thead>\n",
       "  <tbody>\n",
       "    <tr>\n",
       "      <th>0</th>\n",
       "      <td>1002079943728939269</td>\n",
       "      <td>0.0833</td>\n",
       "      <td>0.0833</td>\n",
       "      <td>0.0833</td>\n",
       "      <td>0.0833</td>\n",
       "      <td>0.0833</td>\n",
       "      <td>0.0833</td>\n",
       "      <td>0.0833</td>\n",
       "      <td>0.0833</td>\n",
       "      <td>0.0833</td>\n",
       "      <td>0.0833</td>\n",
       "      <td>0.0833</td>\n",
       "      <td>0.0833</td>\n",
       "    </tr>\n",
       "    <tr>\n",
       "      <th>1</th>\n",
       "      <td>-1547860181818787117</td>\n",
       "      <td>0.0833</td>\n",
       "      <td>0.0833</td>\n",
       "      <td>0.0833</td>\n",
       "      <td>0.0833</td>\n",
       "      <td>0.0833</td>\n",
       "      <td>0.0833</td>\n",
       "      <td>0.0833</td>\n",
       "      <td>0.0833</td>\n",
       "      <td>0.0833</td>\n",
       "      <td>0.0833</td>\n",
       "      <td>0.0833</td>\n",
       "      <td>0.0833</td>\n",
       "    </tr>\n",
       "    <tr>\n",
       "      <th>2</th>\n",
       "      <td>7374582448058474277</td>\n",
       "      <td>0.0833</td>\n",
       "      <td>0.0833</td>\n",
       "      <td>0.0833</td>\n",
       "      <td>0.0833</td>\n",
       "      <td>0.0833</td>\n",
       "      <td>0.0833</td>\n",
       "      <td>0.0833</td>\n",
       "      <td>0.0833</td>\n",
       "      <td>0.0833</td>\n",
       "      <td>0.0833</td>\n",
       "      <td>0.0833</td>\n",
       "      <td>0.0833</td>\n",
       "    </tr>\n",
       "    <tr>\n",
       "      <th>3</th>\n",
       "      <td>-6220210354783429585</td>\n",
       "      <td>0.0833</td>\n",
       "      <td>0.0833</td>\n",
       "      <td>0.0833</td>\n",
       "      <td>0.0833</td>\n",
       "      <td>0.0833</td>\n",
       "      <td>0.0833</td>\n",
       "      <td>0.0833</td>\n",
       "      <td>0.0833</td>\n",
       "      <td>0.0833</td>\n",
       "      <td>0.0833</td>\n",
       "      <td>0.0833</td>\n",
       "      <td>0.0833</td>\n",
       "    </tr>\n",
       "    <tr>\n",
       "      <th>4</th>\n",
       "      <td>-5893464122623104785</td>\n",
       "      <td>0.0833</td>\n",
       "      <td>0.0833</td>\n",
       "      <td>0.0833</td>\n",
       "      <td>0.0833</td>\n",
       "      <td>0.0833</td>\n",
       "      <td>0.0833</td>\n",
       "      <td>0.0833</td>\n",
       "      <td>0.0833</td>\n",
       "      <td>0.0833</td>\n",
       "      <td>0.0833</td>\n",
       "      <td>0.0833</td>\n",
       "      <td>0.0833</td>\n",
       "    </tr>\n",
       "  </tbody>\n",
       "</table>\n",
       "</div>"
      ],
      "text/plain": [
       "             device_id    F23-  F24-26  F27-28  F29-32  F33-42    F43+  \\\n",
       "0  1002079943728939269  0.0833  0.0833  0.0833  0.0833  0.0833  0.0833   \n",
       "1 -1547860181818787117  0.0833  0.0833  0.0833  0.0833  0.0833  0.0833   \n",
       "2  7374582448058474277  0.0833  0.0833  0.0833  0.0833  0.0833  0.0833   \n",
       "3 -6220210354783429585  0.0833  0.0833  0.0833  0.0833  0.0833  0.0833   \n",
       "4 -5893464122623104785  0.0833  0.0833  0.0833  0.0833  0.0833  0.0833   \n",
       "\n",
       "     M22-  M23-26  M27-28  M29-31  M32-38    M39+  \n",
       "0  0.0833  0.0833  0.0833  0.0833  0.0833  0.0833  \n",
       "1  0.0833  0.0833  0.0833  0.0833  0.0833  0.0833  \n",
       "2  0.0833  0.0833  0.0833  0.0833  0.0833  0.0833  \n",
       "3  0.0833  0.0833  0.0833  0.0833  0.0833  0.0833  \n",
       "4  0.0833  0.0833  0.0833  0.0833  0.0833  0.0833  "
      ]
     },
     "execution_count": 48,
     "metadata": {},
     "output_type": "execute_result"
    }
   ],
   "source": [
    "submission = pd.read_csv('../data/sample_submission.csv'); submission.head()"
   ]
  },
  {
   "cell_type": "code",
   "execution_count": 49,
   "metadata": {
    "collapsed": true
   },
   "outputs": [],
   "source": [
    "submission[submission.columns[1:]] = predictions"
   ]
  },
  {
   "cell_type": "code",
   "execution_count": 50,
   "metadata": {
    "collapsed": false
   },
   "outputs": [
    {
     "data": {
      "text/html": [
       "<div>\n",
       "<table border=\"1\" class=\"dataframe\">\n",
       "  <thead>\n",
       "    <tr style=\"text-align: right;\">\n",
       "      <th></th>\n",
       "      <th>device_id</th>\n",
       "      <th>F23-</th>\n",
       "      <th>F24-26</th>\n",
       "      <th>F27-28</th>\n",
       "      <th>F29-32</th>\n",
       "      <th>F33-42</th>\n",
       "      <th>F43+</th>\n",
       "      <th>M22-</th>\n",
       "      <th>M23-26</th>\n",
       "      <th>M27-28</th>\n",
       "      <th>M29-31</th>\n",
       "      <th>M32-38</th>\n",
       "      <th>M39+</th>\n",
       "    </tr>\n",
       "  </thead>\n",
       "  <tbody>\n",
       "    <tr>\n",
       "      <th>0</th>\n",
       "      <td>1002079943728939269</td>\n",
       "      <td>0.058821</td>\n",
       "      <td>0.049063</td>\n",
       "      <td>0.042510</td>\n",
       "      <td>0.062120</td>\n",
       "      <td>0.068697</td>\n",
       "      <td>0.054834</td>\n",
       "      <td>0.100907</td>\n",
       "      <td>0.131264</td>\n",
       "      <td>0.076163</td>\n",
       "      <td>0.108989</td>\n",
       "      <td>0.126944</td>\n",
       "      <td>0.119686</td>\n",
       "    </tr>\n",
       "    <tr>\n",
       "      <th>1</th>\n",
       "      <td>-1547860181818787117</td>\n",
       "      <td>0.052240</td>\n",
       "      <td>0.049750</td>\n",
       "      <td>0.043025</td>\n",
       "      <td>0.060598</td>\n",
       "      <td>0.070117</td>\n",
       "      <td>0.059207</td>\n",
       "      <td>0.097065</td>\n",
       "      <td>0.128428</td>\n",
       "      <td>0.075037</td>\n",
       "      <td>0.107221</td>\n",
       "      <td>0.132059</td>\n",
       "      <td>0.125253</td>\n",
       "    </tr>\n",
       "    <tr>\n",
       "      <th>2</th>\n",
       "      <td>7374582448058474277</td>\n",
       "      <td>0.068733</td>\n",
       "      <td>0.049186</td>\n",
       "      <td>0.034094</td>\n",
       "      <td>0.056790</td>\n",
       "      <td>0.093136</td>\n",
       "      <td>0.058529</td>\n",
       "      <td>0.067624</td>\n",
       "      <td>0.110315</td>\n",
       "      <td>0.060424</td>\n",
       "      <td>0.110032</td>\n",
       "      <td>0.128593</td>\n",
       "      <td>0.162544</td>\n",
       "    </tr>\n",
       "    <tr>\n",
       "      <th>3</th>\n",
       "      <td>-6220210354783429585</td>\n",
       "      <td>0.049885</td>\n",
       "      <td>0.052674</td>\n",
       "      <td>0.033831</td>\n",
       "      <td>0.069916</td>\n",
       "      <td>0.082186</td>\n",
       "      <td>0.058712</td>\n",
       "      <td>0.056424</td>\n",
       "      <td>0.130360</td>\n",
       "      <td>0.073977</td>\n",
       "      <td>0.107748</td>\n",
       "      <td>0.144906</td>\n",
       "      <td>0.139381</td>\n",
       "    </tr>\n",
       "    <tr>\n",
       "      <th>4</th>\n",
       "      <td>-5893464122623104785</td>\n",
       "      <td>0.059065</td>\n",
       "      <td>0.056753</td>\n",
       "      <td>0.038754</td>\n",
       "      <td>0.059861</td>\n",
       "      <td>0.063590</td>\n",
       "      <td>0.049354</td>\n",
       "      <td>0.105775</td>\n",
       "      <td>0.160211</td>\n",
       "      <td>0.087838</td>\n",
       "      <td>0.097975</td>\n",
       "      <td>0.122886</td>\n",
       "      <td>0.097939</td>\n",
       "    </tr>\n",
       "  </tbody>\n",
       "</table>\n",
       "</div>"
      ],
      "text/plain": [
       "             device_id      F23-    F24-26    F27-28    F29-32    F33-42  \\\n",
       "0  1002079943728939269  0.058821  0.049063  0.042510  0.062120  0.068697   \n",
       "1 -1547860181818787117  0.052240  0.049750  0.043025  0.060598  0.070117   \n",
       "2  7374582448058474277  0.068733  0.049186  0.034094  0.056790  0.093136   \n",
       "3 -6220210354783429585  0.049885  0.052674  0.033831  0.069916  0.082186   \n",
       "4 -5893464122623104785  0.059065  0.056753  0.038754  0.059861  0.063590   \n",
       "\n",
       "       F43+      M22-    M23-26    M27-28    M29-31    M32-38      M39+  \n",
       "0  0.054834  0.100907  0.131264  0.076163  0.108989  0.126944  0.119686  \n",
       "1  0.059207  0.097065  0.128428  0.075037  0.107221  0.132059  0.125253  \n",
       "2  0.058529  0.067624  0.110315  0.060424  0.110032  0.128593  0.162544  \n",
       "3  0.058712  0.056424  0.130360  0.073977  0.107748  0.144906  0.139381  \n",
       "4  0.049354  0.105775  0.160211  0.087838  0.097975  0.122886  0.097939  "
      ]
     },
     "execution_count": 50,
     "metadata": {},
     "output_type": "execute_result"
    }
   ],
   "source": [
    "submission.head()"
   ]
  },
  {
   "cell_type": "code",
   "execution_count": 51,
   "metadata": {
    "collapsed": true
   },
   "outputs": [],
   "source": [
    "submission.to_csv('../submissions/random_forest_classifier_2.394721.csv', index=False)"
   ]
  },
  {
   "cell_type": "code",
   "execution_count": null,
   "metadata": {
    "collapsed": true
   },
   "outputs": [],
   "source": []
  }
 ],
 "metadata": {
  "kernelspec": {
   "display_name": "Python 2",
   "language": "python",
   "name": "python2"
  },
  "language_info": {
   "codemirror_mode": {
    "name": "ipython",
    "version": 2
   },
   "file_extension": ".py",
   "mimetype": "text/x-python",
   "name": "python",
   "nbconvert_exporter": "python",
   "pygments_lexer": "ipython2",
   "version": "2.7.11"
  }
 },
 "nbformat": 4,
 "nbformat_minor": 0
}
